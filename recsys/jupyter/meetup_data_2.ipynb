{
 "cells": [
  {
   "cell_type": "code",
   "execution_count": 6,
   "id": "b05e34af-ef75-4e0d-9ca4-540b0b4a0e42",
   "metadata": {},
   "outputs": [],
   "source": [
    "from pathlib import Path\n",
    "import json\n",
    "\n",
    "import polars as pl\n",
    "import numpy as np"
   ]
  },
  {
   "cell_type": "code",
   "execution_count": 7,
   "id": "c2bc231e-aa79-4861-8c96-6a7d663f9bf4",
   "metadata": {},
   "outputs": [],
   "source": [
    "events_by_id = {}\n",
    "\n",
    "\n",
    "# just fill events_by_id from parsed data\n",
    "events_dir = Path('meetup_parser/simple/meetup_parsing/nl--Amsterdam/')\n",
    "for event_dir in events_dir.iterdir():\n",
    "    if not event_dir.is_dir():\n",
    "        continue\n",
    "\n",
    "    with open(event_dir / 'event') as event_fd:\n",
    "        event = json.loads(event_fd.read())\n",
    "        event_attendees = {\n",
    "            attendee_file.name: json.loads(attendee_file.open().read())\n",
    "            for attendee_file in (event_dir / 'attendees').iterdir()\n",
    "        }\n",
    "        \n",
    "        events_by_id[event['id']] = {\n",
    "            'event': event,\n",
    "            'attendees': event_attendees,\n",
    "        }"
   ]
  },
  {
   "cell_type": "code",
   "execution_count": 8,
   "id": "e69b10de-cb0f-4229-8442-c7f7714803e5",
   "metadata": {},
   "outputs": [],
   "source": [
    "# use pre-trained vectors\n",
    "embeddings_dict = {}\n",
    "with open(\"glove.6B/glove.6B.300d.txt\", 'r', encoding=\"utf-8\") as f:\n",
    "    for line in f:\n",
    "        values = line.split()\n",
    "        word = values[0]\n",
    "        vector = np.asarray(values[1:], \"float32\")\n",
    "        embeddings_dict[word] = vector"
   ]
  },
  {
   "cell_type": "code",
   "execution_count": 9,
   "id": "a8b7f9d3-e01b-4829-b6e7-d3763f5b9ff8",
   "metadata": {},
   "outputs": [],
   "source": [
    "# text embedding with glove (first )\n",
    "def get_glove_text_emb(text):\n",
    "    SIZE = 300 # embedding dimensions\n",
    "    \n",
    "    # vec = np.zeros(SIZE).reshape((1, SIZE))\n",
    "    vec = np.zeros(SIZE)\n",
    "    count = 0\n",
    "\n",
    "    # mean value of all words\n",
    "    for word in text.split():\n",
    "        try:\n",
    "            # vec += embeddings_dict[word].reshape((1, SIZE))\n",
    "            vec += embeddings_dict[word]\n",
    "            count += 1\n",
    "        except KeyError:\n",
    "            continue\n",
    "    if count != 0:\n",
    "        vec /= count\n",
    "    return vec"
   ]
  },
  {
   "cell_type": "code",
   "execution_count": 13,
   "id": "9fc7cd95-7d5a-490d-a5bb-9c15d6a768a8",
   "metadata": {},
   "outputs": [
    {
     "name": "stdout",
     "output_type": "stream",
     "text": [
      "TITLE Expand and Contract (Georg Berky) \n",
      "START_DATE 2024-05-23T18:30:00+02:00\n",
      "DESCRIPTION In den letzten Jahren hat sich das Tooling in den Bereichen Continuous Integration, Continuous Delivery und Infrastructure as Code erheblich verbessert. Pipelines, Builds und Deployments bekommt man oft schon mit der Source-Verwaltung geschenkt. Man sollte meinen, dass dank der neuen Tools jedes Team sofort mit mehreren Deployments pro Stunde direkt nach Production liefern könnte. Dem ist aber nicht so - und der Grund dafür liegt meistens nicht in den Tools.\n",
      "\n",
      "Expand and Contract ist eine Denk- und Entwicklungsweise, die essenziell ist für Continuous Delivery. In diesem Vortrag zeigt euch Georg mit viel Live Coding und ein wenig Theorie, welchen Weg er dahin genommen hat. Er beginnt mit einer Abneigung für unsichere Handarbeit und führt zu einer jederzeit unterbrech- und releasebaren Arbeitsweise, der Grundlage für Continuous Delivery.\n",
      "\n",
      "**Georg Berky**\n",
      "Georgs Handwerk und Leidenschaft ist die Programmierung, meistens in JVM-Sprachen wie Java, Groovy, Kotlin oder Clojure.\n",
      "\n",
      "Zum Handwerk gehören für ihn auch Themen wie die Pflege von Legacy Code, Automatisierung von Builds und Deployments oder Agilität im Team. Seit einigen Jahren ist er in der Software Crafting Community aktiv und Co-Organisator der Softwerkskammer im Ruhrgebiet.\n",
      "\n",
      "Wenn er mal nicht programmiert, spielt er Trompete, pflegt seine Bonsai oder praktiziert Aikido.\n"
     ]
    }
   ],
   "source": [
    "# example - event `300283984`\n",
    "print('TITLE', events_by_id['300283984']['event']['title'])\n",
    "print('START_DATE', events_by_id['300283984']['event']['event_start_dt'])\n",
    "print('DESCRIPTION', events_by_id['300283984']['event']['description'])"
   ]
  },
  {
   "cell_type": "code",
   "execution_count": 10,
   "id": "3b014896-1491-40e3-8e58-8c8ed7bd3ec2",
   "metadata": {},
   "outputs": [],
   "source": [
    "def get_attendee_descrition(topics):\n",
    "    if len(topics) == 0:\n",
    "        return ''\n",
    "        \n",
    "    attendee_descrition = 'Hello! My interests are: '\n",
    "    for topic in topics:\n",
    "        attendee_descrition += topic['name'] + ', '\n",
    "    return attendee_descrition"
   ]
  },
  {
   "cell_type": "code",
   "execution_count": 11,
   "id": "13526068-9212-45c2-8e12-b045597156b1",
   "metadata": {},
   "outputs": [],
   "source": [
    "event_1_descr_emb = get_glove_text_emb(events_by_id['300283984']['event']['description'])\n",
    "event_1_attendees_embs = {\n",
    "    attendee['id']: get_glove_text_emb(get_attendee_descrition(attendee['topics']))\n",
    "    for attendee in events_by_id['300283984']['attendees'].values()\n",
    "}\n",
    "\n",
    "event_2_descr_emb = get_glove_text_emb(events_by_id['300305957']['event']['description'])\n",
    "event_2_attendees_embs = {\n",
    "    attendee['id']: get_glove_text_emb(get_attendee_descrition(attendee['topics']))\n",
    "    for attendee in events_by_id['300305957']['attendees'].values()\n",
    "}\n"
   ]
  },
  {
   "cell_type": "code",
   "execution_count": 8,
   "id": "b2937646-ced3-4c8e-9d05-27ac14a38bb8",
   "metadata": {
    "scrolled": true
   },
   "outputs": [
    {
     "data": {
      "text/plain": [
       "array([ 0.14307734,  0.11066193,  0.18024852, -0.82455894, -0.49365744,\n",
       "       -0.36710106,  0.40433076, -0.23387506, -0.06916531, -0.22148124,\n",
       "        0.09180219, -0.00584418, -0.73805972, -0.01387209,  0.29700826,\n",
       "       -0.23179562,  0.50734358,  0.30960086, -0.12484121,  0.8959057 ,\n",
       "        0.01121536, -0.573968  ,  0.62532979,  0.67512365,  0.11456897,\n",
       "       -0.46933505, -0.77367886, -0.02158953, -0.5026821 , -0.27527441,\n",
       "        0.53840398, -0.15700982, -0.04234674,  0.62788032, -0.87588492,\n",
       "       -0.22255579,  0.44907173,  0.25208182,  0.85870785,  0.37946999,\n",
       "        0.29400792, -0.46475338, -0.07346013, -0.3507658 ,  0.59633403,\n",
       "       -0.73882677,  0.33776086, -0.4331917 ,  0.39120368,  0.62632509])"
      ]
     },
     "execution_count": 8,
     "metadata": {},
     "output_type": "execute_result"
    }
   ],
   "source": [
    "get_glove_text_emb(events_by_id['300283984']['event']['description'])"
   ]
  },
  {
   "cell_type": "code",
   "execution_count": 12,
   "id": "93d68db7-2cb2-4b90-a94b-382f092270a5",
   "metadata": {},
   "outputs": [],
   "source": [
    "from sklearn.manifold import TSNE\n",
    "\n",
    "\n",
    "all_embs = np.array([\n",
    "    event_1_descr_emb,\n",
    "    *event_1_attendees_embs.values(),\n",
    "    event_2_descr_emb,\n",
    "    *event_2_attendees_embs.values(),\n",
    "])\n",
    "\n",
    "tsne = TSNE(random_state = 0, n_iter = 1000, metric = 'cosine')\n",
    "embeddings2d = tsne.fit(np.array(all_embs))"
   ]
  },
  {
   "cell_type": "code",
   "execution_count": 10,
   "id": "83351f11-0b21-4b7c-963f-ac8c90b4be58",
   "metadata": {},
   "outputs": [
    {
     "data": {
      "text/plain": [
       "array([119.4662], dtype=float32)"
      ]
     },
     "execution_count": 10,
     "metadata": {},
     "output_type": "execute_result"
    }
   ],
   "source": [
    "tsne.embedding_[0:1,0]"
   ]
  },
  {
   "cell_type": "code",
   "execution_count": 13,
   "id": "d62c0119-4b45-426a-91cb-e621565ebd87",
   "metadata": {
    "scrolled": true
   },
   "outputs": [
    {
     "data": {
      "text/html": [
       "<div><style>\n",
       ".dataframe > thead > tr,\n",
       ".dataframe > tbody > tr {\n",
       "  text-align: right;\n",
       "  white-space: pre-wrap;\n",
       "}\n",
       "</style>\n",
       "<small>shape: (21, 4)</small><table border=\"1\" class=\"dataframe\"><thead><tr><th>x</th><th>y</th><th>object</th><th>name</th></tr><tr><td>f32</td><td>f32</td><td>str</td><td>str</td></tr></thead><tbody><tr><td>41.784939</td><td>-78.502014</td><td>&quot;event 2&quot;</td><td>&quot;Expand and Con…</td></tr><tr><td>-156.688354</td><td>-326.585815</td><td>&quot;event 1 attend…</td><td>&quot;1994757293&quot;</td></tr><tr><td>145.590408</td><td>-159.199127</td><td>&quot;event 1 attend…</td><td>&quot;1993040306&quot;</td></tr><tr><td>-156.688354</td><td>-326.585815</td><td>&quot;event 1 attend…</td><td>&quot;1993061061&quot;</td></tr><tr><td>-337.668488</td><td>83.653061</td><td>&quot;event 1 attend…</td><td>&quot;1994062788&quot;</td></tr><tr><td>&hellip;</td><td>&hellip;</td><td>&hellip;</td><td>&hellip;</td></tr><tr><td>-337.668488</td><td>83.653061</td><td>&quot;event 1 attend…</td><td>&quot;1994595427&quot;</td></tr><tr><td>-156.688354</td><td>-326.585815</td><td>&quot;event 1 attend…</td><td>&quot;1993870690&quot;</td></tr><tr><td>-156.688354</td><td>-326.585815</td><td>&quot;event 1 attend…</td><td>&quot;1994501266&quot;</td></tr><tr><td>145.590408</td><td>-159.199127</td><td>&quot;event 1 attend…</td><td>&quot;1994615185&quot;</td></tr><tr><td>-422.510468</td><td>16.101847</td><td>&quot;event 1&quot;</td><td>&quot;Hiking - Adven…</td></tr></tbody></table></div>"
      ],
      "text/plain": [
       "shape: (21, 4)\n",
       "┌─────────────┬─────────────┬───────────────────┬───────────────────────────────────┐\n",
       "│ x           ┆ y           ┆ object            ┆ name                              │\n",
       "│ ---         ┆ ---         ┆ ---               ┆ ---                               │\n",
       "│ f32         ┆ f32         ┆ str               ┆ str                               │\n",
       "╞═════════════╪═════════════╪═══════════════════╪═══════════════════════════════════╡\n",
       "│ 41.784939   ┆ -78.502014  ┆ event 2           ┆ Expand and Contract (Georg Berky… │\n",
       "│ -156.688354 ┆ -326.585815 ┆ event 1 attendees ┆ 1994757293                        │\n",
       "│ 145.590408  ┆ -159.199127 ┆ event 1 attendees ┆ 1993040306                        │\n",
       "│ -156.688354 ┆ -326.585815 ┆ event 1 attendees ┆ 1993061061                        │\n",
       "│ -337.668488 ┆ 83.653061   ┆ event 1 attendees ┆ 1994062788                        │\n",
       "│ …           ┆ …           ┆ …                 ┆ …                                 │\n",
       "│ -337.668488 ┆ 83.653061   ┆ event 1 attendees ┆ 1994595427                        │\n",
       "│ -156.688354 ┆ -326.585815 ┆ event 1 attendees ┆ 1993870690                        │\n",
       "│ -156.688354 ┆ -326.585815 ┆ event 1 attendees ┆ 1994501266                        │\n",
       "│ 145.590408  ┆ -159.199127 ┆ event 1 attendees ┆ 1994615185                        │\n",
       "│ -422.510468 ┆ 16.101847   ┆ event 1           ┆ Hiking - Adventure in Bussum      │\n",
       "└─────────────┴─────────────┴───────────────────┴───────────────────────────────────┘"
      ]
     },
     "execution_count": 13,
     "metadata": {},
     "output_type": "execute_result"
    }
   ],
   "source": [
    "event_1_attendees_count = len(event_1_attendees_embs.values())\n",
    "event_2_attendees_count = len(event_2_attendees_embs.values())\n",
    "\n",
    "event_1_data = pl.DataFrame({\n",
    "    'x': tsne.embedding_[0:1,0],\n",
    "    'y': tsne.embedding_[0:1,1],\n",
    "    'object': 'event 2',\n",
    "    'name': events_by_id['300283984']['event']['title'],\n",
    "})\n",
    "event_1_attendees_data = pl.DataFrame({\n",
    "    'x': tsne.embedding_[1:event_1_attendees_count+1,0],\n",
    "    'y': tsne.embedding_[1:event_1_attendees_count+1,1],\n",
    "    'object': 'event 1 attendees',\n",
    "    'name': event_1_attendees_embs.keys(),\n",
    "})\n",
    "\n",
    "event_2_data = pl.DataFrame({\n",
    "    'x': tsne.embedding_[event_1_attendees_count+1:event_1_attendees_count+2,0],\n",
    "    'y': tsne.embedding_[event_1_attendees_count+1:event_1_attendees_count+2,1],\n",
    "    'object': 'event 1',\n",
    "    'name': events_by_id['300305957']['event']['title'],\n",
    "})\n",
    "event_2_attendees_data = pl.DataFrame({\n",
    "    'x': tsne.embedding_[event_1_attendees_count+2:,0],\n",
    "    'y': tsne.embedding_[event_1_attendees_count+2:,1],\n",
    "    'object': 'event 2 attendees',\n",
    "    'name': event_2_attendees_embs.keys(),\n",
    "})\n",
    "\n",
    "all_points = pl.concat(\n",
    "    [\n",
    "        event_1_data,\n",
    "        event_1_attendees_data,\n",
    "        event_2_data,\n",
    "        # event_2_attendees_data,\n",
    "    ],\n",
    "    how=\"vertical\",\n",
    ")\n",
    "all_points"
   ]
  },
  {
   "cell_type": "code",
   "execution_count": 16,
   "id": "6ea9837d-156f-44b1-998f-42b35548333b",
   "metadata": {},
   "outputs": [],
   "source": [
    "from scipy import spatial\n",
    "\n",
    "def find_closest_embeddings(embedding): \n",
    "    return sorted(embeddings_dict.keys(), key=lambda word: spatial.distance.euclidean(embeddings_dict[word], embedding))"
   ]
  },
  {
   "cell_type": "code",
   "execution_count": 25,
   "id": "182d214d-6a41-4428-9fa0-c8e8f82ad35d",
   "metadata": {},
   "outputs": [
    {
     "data": {
      "text/plain": [
       "['k587-1',\n",
       " 'str95bb',\n",
       " 'http://www.mediabynumbers.com',\n",
       " 'k977-1',\n",
       " 'js94bb',\n",
       " 'k978-1',\n",
       " 'bulletinyyy',\n",
       " 'bb96',\n",
       " 'mo95',\n",
       " 'bdb94']"
      ]
     },
     "execution_count": 25,
     "metadata": {},
     "output_type": "execute_result"
    }
   ],
   "source": [
    "find_closest_embeddings(get_glove_text_emb('пёс'))[:10]"
   ]
  },
  {
   "cell_type": "code",
   "execution_count": 18,
   "id": "221afa3a-72c0-4bc5-b743-c1e68ac9c6b9",
   "metadata": {},
   "outputs": [
    {
     "data": {
      "text/html": [
       "        <script type=\"text/javascript\">\n",
       "        window.PlotlyConfig = {MathJaxConfig: 'local'};\n",
       "        if (window.MathJax && window.MathJax.Hub && window.MathJax.Hub.Config) {window.MathJax.Hub.Config({SVG: {font: \"STIX-Web\"}});}\n",
       "        if (typeof require !== 'undefined') {\n",
       "        require.undef(\"plotly\");\n",
       "        requirejs.config({\n",
       "            paths: {\n",
       "                'plotly': ['https://cdn.plot.ly/plotly-2.32.0.min']\n",
       "            }\n",
       "        });\n",
       "        require(['plotly'], function(Plotly) {\n",
       "            window._Plotly = Plotly;\n",
       "        });\n",
       "        }\n",
       "        </script>\n",
       "        "
      ]
     },
     "metadata": {},
     "output_type": "display_data"
    },
    {
     "data": {
      "application/vnd.plotly.v1+json": {
       "config": {
        "plotlyServerURL": "https://plot.ly"
       },
       "data": [
        {
         "customdata": [
          [
           "Expand and Contract (Georg Berky) "
          ]
         ],
         "hovertemplate": "object=event 2<br>x=%{x}<br>y=%{y}<br>name=%{customdata[0]}<extra></extra>",
         "legendgroup": "event 2",
         "marker": {
          "color": "#636efa",
          "symbol": "circle"
         },
         "mode": "markers",
         "name": "event 2",
         "orientation": "v",
         "showlegend": true,
         "type": "scatter",
         "x": [
          41.78493881225586
         ],
         "xaxis": "x",
         "y": [
          -78.50201416015625
         ],
         "yaxis": "y"
        },
        {
         "customdata": [
          [
           "1994757293"
          ],
          [
           "1993040306"
          ],
          [
           "1993061061"
          ],
          [
           "1994062788"
          ],
          [
           "1993042201"
          ],
          [
           "1993275497"
          ],
          [
           "1994717743"
          ],
          [
           "1994206223"
          ],
          [
           "1993112862"
          ],
          [
           "1994806760"
          ],
          [
           "1994838508"
          ],
          [
           "1995182482"
          ],
          [
           "1995059546"
          ],
          [
           "1993153592"
          ],
          [
           "1993274440"
          ],
          [
           "1994595427"
          ],
          [
           "1993870690"
          ],
          [
           "1994501266"
          ],
          [
           "1994615185"
          ]
         ],
         "hovertemplate": "object=event 1 attendees<br>x=%{x}<br>y=%{y}<br>name=%{customdata[0]}<extra></extra>",
         "legendgroup": "event 1 attendees",
         "marker": {
          "color": "#EF553B",
          "symbol": "diamond"
         },
         "mode": "markers",
         "name": "event 1 attendees",
         "orientation": "v",
         "showlegend": true,
         "type": "scatter",
         "x": [
          -156.6883544921875,
          145.5904083251953,
          -156.6883544921875,
          -337.6684875488281,
          -156.6883544921875,
          145.5904083251953,
          -156.6883544921875,
          145.5904083251953,
          -156.6883544921875,
          -337.6684875488281,
          -152.99261474609375,
          -109.56500244140625,
          -337.6684875488281,
          -156.6883544921875,
          145.5904083251953,
          -337.6684875488281,
          -156.6883544921875,
          -156.6883544921875,
          145.5904083251953
         ],
         "xaxis": "x",
         "y": [
          -326.5858154296875,
          -159.19912719726562,
          -326.5858154296875,
          83.65306091308594,
          -326.5858154296875,
          -159.19912719726562,
          -326.5858154296875,
          -159.19912719726562,
          -326.5858154296875,
          83.65306091308594,
          222.76275634765625,
          18.653837203979492,
          83.65306091308594,
          -326.5858154296875,
          -159.19912719726562,
          83.65306091308594,
          -326.5858154296875,
          -326.5858154296875,
          -159.19912719726562
         ],
         "yaxis": "y"
        },
        {
         "customdata": [
          [
           "Hiking - Adventure in Bussum"
          ]
         ],
         "hovertemplate": "object=event 1<br>x=%{x}<br>y=%{y}<br>name=%{customdata[0]}<extra></extra>",
         "legendgroup": "event 1",
         "marker": {
          "color": "#00cc96",
          "symbol": "square"
         },
         "mode": "markers",
         "name": "event 1",
         "orientation": "v",
         "showlegend": true,
         "type": "scatter",
         "x": [
          -422.5104675292969
         ],
         "xaxis": "x",
         "y": [
          16.10184669494629
         ],
         "yaxis": "y"
        }
       ],
       "layout": {
        "height": 500,
        "legend": {
         "title": {
          "text": "object"
         },
         "tracegroupgap": 0
        },
        "margin": {
         "t": 60
        },
        "template": {
         "data": {
          "bar": [
           {
            "error_x": {
             "color": "#2a3f5f"
            },
            "error_y": {
             "color": "#2a3f5f"
            },
            "marker": {
             "line": {
              "color": "#E5ECF6",
              "width": 0.5
             },
             "pattern": {
              "fillmode": "overlay",
              "size": 10,
              "solidity": 0.2
             }
            },
            "type": "bar"
           }
          ],
          "barpolar": [
           {
            "marker": {
             "line": {
              "color": "#E5ECF6",
              "width": 0.5
             },
             "pattern": {
              "fillmode": "overlay",
              "size": 10,
              "solidity": 0.2
             }
            },
            "type": "barpolar"
           }
          ],
          "carpet": [
           {
            "aaxis": {
             "endlinecolor": "#2a3f5f",
             "gridcolor": "white",
             "linecolor": "white",
             "minorgridcolor": "white",
             "startlinecolor": "#2a3f5f"
            },
            "baxis": {
             "endlinecolor": "#2a3f5f",
             "gridcolor": "white",
             "linecolor": "white",
             "minorgridcolor": "white",
             "startlinecolor": "#2a3f5f"
            },
            "type": "carpet"
           }
          ],
          "choropleth": [
           {
            "colorbar": {
             "outlinewidth": 0,
             "ticks": ""
            },
            "type": "choropleth"
           }
          ],
          "contour": [
           {
            "colorbar": {
             "outlinewidth": 0,
             "ticks": ""
            },
            "colorscale": [
             [
              0,
              "#0d0887"
             ],
             [
              0.1111111111111111,
              "#46039f"
             ],
             [
              0.2222222222222222,
              "#7201a8"
             ],
             [
              0.3333333333333333,
              "#9c179e"
             ],
             [
              0.4444444444444444,
              "#bd3786"
             ],
             [
              0.5555555555555556,
              "#d8576b"
             ],
             [
              0.6666666666666666,
              "#ed7953"
             ],
             [
              0.7777777777777778,
              "#fb9f3a"
             ],
             [
              0.8888888888888888,
              "#fdca26"
             ],
             [
              1,
              "#f0f921"
             ]
            ],
            "type": "contour"
           }
          ],
          "contourcarpet": [
           {
            "colorbar": {
             "outlinewidth": 0,
             "ticks": ""
            },
            "type": "contourcarpet"
           }
          ],
          "heatmap": [
           {
            "colorbar": {
             "outlinewidth": 0,
             "ticks": ""
            },
            "colorscale": [
             [
              0,
              "#0d0887"
             ],
             [
              0.1111111111111111,
              "#46039f"
             ],
             [
              0.2222222222222222,
              "#7201a8"
             ],
             [
              0.3333333333333333,
              "#9c179e"
             ],
             [
              0.4444444444444444,
              "#bd3786"
             ],
             [
              0.5555555555555556,
              "#d8576b"
             ],
             [
              0.6666666666666666,
              "#ed7953"
             ],
             [
              0.7777777777777778,
              "#fb9f3a"
             ],
             [
              0.8888888888888888,
              "#fdca26"
             ],
             [
              1,
              "#f0f921"
             ]
            ],
            "type": "heatmap"
           }
          ],
          "heatmapgl": [
           {
            "colorbar": {
             "outlinewidth": 0,
             "ticks": ""
            },
            "colorscale": [
             [
              0,
              "#0d0887"
             ],
             [
              0.1111111111111111,
              "#46039f"
             ],
             [
              0.2222222222222222,
              "#7201a8"
             ],
             [
              0.3333333333333333,
              "#9c179e"
             ],
             [
              0.4444444444444444,
              "#bd3786"
             ],
             [
              0.5555555555555556,
              "#d8576b"
             ],
             [
              0.6666666666666666,
              "#ed7953"
             ],
             [
              0.7777777777777778,
              "#fb9f3a"
             ],
             [
              0.8888888888888888,
              "#fdca26"
             ],
             [
              1,
              "#f0f921"
             ]
            ],
            "type": "heatmapgl"
           }
          ],
          "histogram": [
           {
            "marker": {
             "pattern": {
              "fillmode": "overlay",
              "size": 10,
              "solidity": 0.2
             }
            },
            "type": "histogram"
           }
          ],
          "histogram2d": [
           {
            "colorbar": {
             "outlinewidth": 0,
             "ticks": ""
            },
            "colorscale": [
             [
              0,
              "#0d0887"
             ],
             [
              0.1111111111111111,
              "#46039f"
             ],
             [
              0.2222222222222222,
              "#7201a8"
             ],
             [
              0.3333333333333333,
              "#9c179e"
             ],
             [
              0.4444444444444444,
              "#bd3786"
             ],
             [
              0.5555555555555556,
              "#d8576b"
             ],
             [
              0.6666666666666666,
              "#ed7953"
             ],
             [
              0.7777777777777778,
              "#fb9f3a"
             ],
             [
              0.8888888888888888,
              "#fdca26"
             ],
             [
              1,
              "#f0f921"
             ]
            ],
            "type": "histogram2d"
           }
          ],
          "histogram2dcontour": [
           {
            "colorbar": {
             "outlinewidth": 0,
             "ticks": ""
            },
            "colorscale": [
             [
              0,
              "#0d0887"
             ],
             [
              0.1111111111111111,
              "#46039f"
             ],
             [
              0.2222222222222222,
              "#7201a8"
             ],
             [
              0.3333333333333333,
              "#9c179e"
             ],
             [
              0.4444444444444444,
              "#bd3786"
             ],
             [
              0.5555555555555556,
              "#d8576b"
             ],
             [
              0.6666666666666666,
              "#ed7953"
             ],
             [
              0.7777777777777778,
              "#fb9f3a"
             ],
             [
              0.8888888888888888,
              "#fdca26"
             ],
             [
              1,
              "#f0f921"
             ]
            ],
            "type": "histogram2dcontour"
           }
          ],
          "mesh3d": [
           {
            "colorbar": {
             "outlinewidth": 0,
             "ticks": ""
            },
            "type": "mesh3d"
           }
          ],
          "parcoords": [
           {
            "line": {
             "colorbar": {
              "outlinewidth": 0,
              "ticks": ""
             }
            },
            "type": "parcoords"
           }
          ],
          "pie": [
           {
            "automargin": true,
            "type": "pie"
           }
          ],
          "scatter": [
           {
            "fillpattern": {
             "fillmode": "overlay",
             "size": 10,
             "solidity": 0.2
            },
            "type": "scatter"
           }
          ],
          "scatter3d": [
           {
            "line": {
             "colorbar": {
              "outlinewidth": 0,
              "ticks": ""
             }
            },
            "marker": {
             "colorbar": {
              "outlinewidth": 0,
              "ticks": ""
             }
            },
            "type": "scatter3d"
           }
          ],
          "scattercarpet": [
           {
            "marker": {
             "colorbar": {
              "outlinewidth": 0,
              "ticks": ""
             }
            },
            "type": "scattercarpet"
           }
          ],
          "scattergeo": [
           {
            "marker": {
             "colorbar": {
              "outlinewidth": 0,
              "ticks": ""
             }
            },
            "type": "scattergeo"
           }
          ],
          "scattergl": [
           {
            "marker": {
             "colorbar": {
              "outlinewidth": 0,
              "ticks": ""
             }
            },
            "type": "scattergl"
           }
          ],
          "scattermapbox": [
           {
            "marker": {
             "colorbar": {
              "outlinewidth": 0,
              "ticks": ""
             }
            },
            "type": "scattermapbox"
           }
          ],
          "scatterpolar": [
           {
            "marker": {
             "colorbar": {
              "outlinewidth": 0,
              "ticks": ""
             }
            },
            "type": "scatterpolar"
           }
          ],
          "scatterpolargl": [
           {
            "marker": {
             "colorbar": {
              "outlinewidth": 0,
              "ticks": ""
             }
            },
            "type": "scatterpolargl"
           }
          ],
          "scatterternary": [
           {
            "marker": {
             "colorbar": {
              "outlinewidth": 0,
              "ticks": ""
             }
            },
            "type": "scatterternary"
           }
          ],
          "surface": [
           {
            "colorbar": {
             "outlinewidth": 0,
             "ticks": ""
            },
            "colorscale": [
             [
              0,
              "#0d0887"
             ],
             [
              0.1111111111111111,
              "#46039f"
             ],
             [
              0.2222222222222222,
              "#7201a8"
             ],
             [
              0.3333333333333333,
              "#9c179e"
             ],
             [
              0.4444444444444444,
              "#bd3786"
             ],
             [
              0.5555555555555556,
              "#d8576b"
             ],
             [
              0.6666666666666666,
              "#ed7953"
             ],
             [
              0.7777777777777778,
              "#fb9f3a"
             ],
             [
              0.8888888888888888,
              "#fdca26"
             ],
             [
              1,
              "#f0f921"
             ]
            ],
            "type": "surface"
           }
          ],
          "table": [
           {
            "cells": {
             "fill": {
              "color": "#EBF0F8"
             },
             "line": {
              "color": "white"
             }
            },
            "header": {
             "fill": {
              "color": "#C8D4E3"
             },
             "line": {
              "color": "white"
             }
            },
            "type": "table"
           }
          ]
         },
         "layout": {
          "annotationdefaults": {
           "arrowcolor": "#2a3f5f",
           "arrowhead": 0,
           "arrowwidth": 1
          },
          "autotypenumbers": "strict",
          "coloraxis": {
           "colorbar": {
            "outlinewidth": 0,
            "ticks": ""
           }
          },
          "colorscale": {
           "diverging": [
            [
             0,
             "#8e0152"
            ],
            [
             0.1,
             "#c51b7d"
            ],
            [
             0.2,
             "#de77ae"
            ],
            [
             0.3,
             "#f1b6da"
            ],
            [
             0.4,
             "#fde0ef"
            ],
            [
             0.5,
             "#f7f7f7"
            ],
            [
             0.6,
             "#e6f5d0"
            ],
            [
             0.7,
             "#b8e186"
            ],
            [
             0.8,
             "#7fbc41"
            ],
            [
             0.9,
             "#4d9221"
            ],
            [
             1,
             "#276419"
            ]
           ],
           "sequential": [
            [
             0,
             "#0d0887"
            ],
            [
             0.1111111111111111,
             "#46039f"
            ],
            [
             0.2222222222222222,
             "#7201a8"
            ],
            [
             0.3333333333333333,
             "#9c179e"
            ],
            [
             0.4444444444444444,
             "#bd3786"
            ],
            [
             0.5555555555555556,
             "#d8576b"
            ],
            [
             0.6666666666666666,
             "#ed7953"
            ],
            [
             0.7777777777777778,
             "#fb9f3a"
            ],
            [
             0.8888888888888888,
             "#fdca26"
            ],
            [
             1,
             "#f0f921"
            ]
           ],
           "sequentialminus": [
            [
             0,
             "#0d0887"
            ],
            [
             0.1111111111111111,
             "#46039f"
            ],
            [
             0.2222222222222222,
             "#7201a8"
            ],
            [
             0.3333333333333333,
             "#9c179e"
            ],
            [
             0.4444444444444444,
             "#bd3786"
            ],
            [
             0.5555555555555556,
             "#d8576b"
            ],
            [
             0.6666666666666666,
             "#ed7953"
            ],
            [
             0.7777777777777778,
             "#fb9f3a"
            ],
            [
             0.8888888888888888,
             "#fdca26"
            ],
            [
             1,
             "#f0f921"
            ]
           ]
          },
          "colorway": [
           "#636efa",
           "#EF553B",
           "#00cc96",
           "#ab63fa",
           "#FFA15A",
           "#19d3f3",
           "#FF6692",
           "#B6E880",
           "#FF97FF",
           "#FECB52"
          ],
          "font": {
           "color": "#2a3f5f"
          },
          "geo": {
           "bgcolor": "white",
           "lakecolor": "white",
           "landcolor": "#E5ECF6",
           "showlakes": true,
           "showland": true,
           "subunitcolor": "white"
          },
          "hoverlabel": {
           "align": "left"
          },
          "hovermode": "closest",
          "mapbox": {
           "style": "light"
          },
          "paper_bgcolor": "white",
          "plot_bgcolor": "#E5ECF6",
          "polar": {
           "angularaxis": {
            "gridcolor": "white",
            "linecolor": "white",
            "ticks": ""
           },
           "bgcolor": "#E5ECF6",
           "radialaxis": {
            "gridcolor": "white",
            "linecolor": "white",
            "ticks": ""
           }
          },
          "scene": {
           "xaxis": {
            "backgroundcolor": "#E5ECF6",
            "gridcolor": "white",
            "gridwidth": 2,
            "linecolor": "white",
            "showbackground": true,
            "ticks": "",
            "zerolinecolor": "white"
           },
           "yaxis": {
            "backgroundcolor": "#E5ECF6",
            "gridcolor": "white",
            "gridwidth": 2,
            "linecolor": "white",
            "showbackground": true,
            "ticks": "",
            "zerolinecolor": "white"
           },
           "zaxis": {
            "backgroundcolor": "#E5ECF6",
            "gridcolor": "white",
            "gridwidth": 2,
            "linecolor": "white",
            "showbackground": true,
            "ticks": "",
            "zerolinecolor": "white"
           }
          },
          "shapedefaults": {
           "line": {
            "color": "#2a3f5f"
           }
          },
          "ternary": {
           "aaxis": {
            "gridcolor": "white",
            "linecolor": "white",
            "ticks": ""
           },
           "baxis": {
            "gridcolor": "white",
            "linecolor": "white",
            "ticks": ""
           },
           "bgcolor": "#E5ECF6",
           "caxis": {
            "gridcolor": "white",
            "linecolor": "white",
            "ticks": ""
           }
          },
          "title": {
           "x": 0.05
          },
          "xaxis": {
           "automargin": true,
           "gridcolor": "white",
           "linecolor": "white",
           "ticks": "",
           "title": {
            "standoff": 15
           },
           "zerolinecolor": "white",
           "zerolinewidth": 2
          },
          "yaxis": {
           "automargin": true,
           "gridcolor": "white",
           "linecolor": "white",
           "ticks": "",
           "title": {
            "standoff": 15
           },
           "zerolinecolor": "white",
           "zerolinewidth": 2
          }
         }
        },
        "width": 800,
        "xaxis": {
         "anchor": "y",
         "autorange": true,
         "domain": [
          0,
          1
         ],
         "range": [
          -458.93617103661325,
          182.0161118325117
         ],
         "title": {
          "text": "x"
         },
         "type": "linear"
        },
        "yaxis": {
         "anchor": "x",
         "autorange": true,
         "domain": [
          0,
          1
         ],
         "range": [
          -364.33725756604525,
          260.514198484014
         ],
         "title": {
          "text": "y"
         },
         "type": "linear"
        }
       }
      },
      "image/png": "[encoded data removed]",
      "text/html": [
       "<div>                            <div id=\"c87905b7-a8da-4842-83f1-725c73a29868\" class=\"plotly-graph-div\" style=\"height:500px; width:800px;\"></div>            <script type=\"text/javascript\">                require([\"plotly\"], function(Plotly) {                    window.PLOTLYENV=window.PLOTLYENV || {};                                    if (document.getElementById(\"c87905b7-a8da-4842-83f1-725c73a29868\")) {                    Plotly.newPlot(                        \"c87905b7-a8da-4842-83f1-725c73a29868\",                        [{\"customdata\":[[\"Expand and Contract (Georg Berky) \"]],\"hovertemplate\":\"object=event 2\\u003cbr\\u003ex=%{x}\\u003cbr\\u003ey=%{y}\\u003cbr\\u003ename=%{customdata[0]}\\u003cextra\\u003e\\u003c\\u002fextra\\u003e\",\"legendgroup\":\"event 2\",\"marker\":{\"color\":\"#636efa\",\"symbol\":\"circle\"},\"mode\":\"markers\",\"name\":\"event 2\",\"orientation\":\"v\",\"showlegend\":true,\"x\":[41.78493881225586],\"xaxis\":\"x\",\"y\":[-78.50201416015625],\"yaxis\":\"y\",\"type\":\"scatter\"},{\"customdata\":[[\"1994757293\"],[\"1993040306\"],[\"1993061061\"],[\"1994062788\"],[\"1993042201\"],[\"1993275497\"],[\"1994717743\"],[\"1994206223\"],[\"1993112862\"],[\"1994806760\"],[\"1994838508\"],[\"1995182482\"],[\"1995059546\"],[\"1993153592\"],[\"1993274440\"],[\"1994595427\"],[\"1993870690\"],[\"1994501266\"],[\"1994615185\"]],\"hovertemplate\":\"object=event 1 attendees\\u003cbr\\u003ex=%{x}\\u003cbr\\u003ey=%{y}\\u003cbr\\u003ename=%{customdata[0]}\\u003cextra\\u003e\\u003c\\u002fextra\\u003e\",\"legendgroup\":\"event 1 attendees\",\"marker\":{\"color\":\"#EF553B\",\"symbol\":\"diamond\"},\"mode\":\"markers\",\"name\":\"event 1 attendees\",\"orientation\":\"v\",\"showlegend\":true,\"x\":[-156.6883544921875,145.5904083251953,-156.6883544921875,-337.6684875488281,-156.6883544921875,145.5904083251953,-156.6883544921875,145.5904083251953,-156.6883544921875,-337.6684875488281,-152.99261474609375,-109.56500244140625,-337.6684875488281,-156.6883544921875,145.5904083251953,-337.6684875488281,-156.6883544921875,-156.6883544921875,145.5904083251953],\"xaxis\":\"x\",\"y\":[-326.5858154296875,-159.19912719726562,-326.5858154296875,83.65306091308594,-326.5858154296875,-159.19912719726562,-326.5858154296875,-159.19912719726562,-326.5858154296875,83.65306091308594,222.76275634765625,18.653837203979492,83.65306091308594,-326.5858154296875,-159.19912719726562,83.65306091308594,-326.5858154296875,-326.5858154296875,-159.19912719726562],\"yaxis\":\"y\",\"type\":\"scatter\"},{\"customdata\":[[\"Hiking - Adventure in Bussum\"]],\"hovertemplate\":\"object=event 1\\u003cbr\\u003ex=%{x}\\u003cbr\\u003ey=%{y}\\u003cbr\\u003ename=%{customdata[0]}\\u003cextra\\u003e\\u003c\\u002fextra\\u003e\",\"legendgroup\":\"event 1\",\"marker\":{\"color\":\"#00cc96\",\"symbol\":\"square\"},\"mode\":\"markers\",\"name\":\"event 1\",\"orientation\":\"v\",\"showlegend\":true,\"x\":[-422.5104675292969],\"xaxis\":\"x\",\"y\":[16.10184669494629],\"yaxis\":\"y\",\"type\":\"scatter\"}],                        {\"template\":{\"data\":{\"histogram2dcontour\":[{\"type\":\"histogram2dcontour\",\"colorbar\":{\"outlinewidth\":0,\"ticks\":\"\"},\"colorscale\":[[0.0,\"#0d0887\"],[0.1111111111111111,\"#46039f\"],[0.2222222222222222,\"#7201a8\"],[0.3333333333333333,\"#9c179e\"],[0.4444444444444444,\"#bd3786\"],[0.5555555555555556,\"#d8576b\"],[0.6666666666666666,\"#ed7953\"],[0.7777777777777778,\"#fb9f3a\"],[0.8888888888888888,\"#fdca26\"],[1.0,\"#f0f921\"]]}],\"choropleth\":[{\"type\":\"choropleth\",\"colorbar\":{\"outlinewidth\":0,\"ticks\":\"\"}}],\"histogram2d\":[{\"type\":\"histogram2d\",\"colorbar\":{\"outlinewidth\":0,\"ticks\":\"\"},\"colorscale\":[[0.0,\"#0d0887\"],[0.1111111111111111,\"#46039f\"],[0.2222222222222222,\"#7201a8\"],[0.3333333333333333,\"#9c179e\"],[0.4444444444444444,\"#bd3786\"],[0.5555555555555556,\"#d8576b\"],[0.6666666666666666,\"#ed7953\"],[0.7777777777777778,\"#fb9f3a\"],[0.8888888888888888,\"#fdca26\"],[1.0,\"#f0f921\"]]}],\"heatmap\":[{\"type\":\"heatmap\",\"colorbar\":{\"outlinewidth\":0,\"ticks\":\"\"},\"colorscale\":[[0.0,\"#0d0887\"],[0.1111111111111111,\"#46039f\"],[0.2222222222222222,\"#7201a8\"],[0.3333333333333333,\"#9c179e\"],[0.4444444444444444,\"#bd3786\"],[0.5555555555555556,\"#d8576b\"],[0.6666666666666666,\"#ed7953\"],[0.7777777777777778,\"#fb9f3a\"],[0.8888888888888888,\"#fdca26\"],[1.0,\"#f0f921\"]]}],\"heatmapgl\":[{\"type\":\"heatmapgl\",\"colorbar\":{\"outlinewidth\":0,\"ticks\":\"\"},\"colorscale\":[[0.0,\"#0d0887\"],[0.1111111111111111,\"#46039f\"],[0.2222222222222222,\"#7201a8\"],[0.3333333333333333,\"#9c179e\"],[0.4444444444444444,\"#bd3786\"],[0.5555555555555556,\"#d8576b\"],[0.6666666666666666,\"#ed7953\"],[0.7777777777777778,\"#fb9f3a\"],[0.8888888888888888,\"#fdca26\"],[1.0,\"#f0f921\"]]}],\"contourcarpet\":[{\"type\":\"contourcarpet\",\"colorbar\":{\"outlinewidth\":0,\"ticks\":\"\"}}],\"contour\":[{\"type\":\"contour\",\"colorbar\":{\"outlinewidth\":0,\"ticks\":\"\"},\"colorscale\":[[0.0,\"#0d0887\"],[0.1111111111111111,\"#46039f\"],[0.2222222222222222,\"#7201a8\"],[0.3333333333333333,\"#9c179e\"],[0.4444444444444444,\"#bd3786\"],[0.5555555555555556,\"#d8576b\"],[0.6666666666666666,\"#ed7953\"],[0.7777777777777778,\"#fb9f3a\"],[0.8888888888888888,\"#fdca26\"],[1.0,\"#f0f921\"]]}],\"surface\":[{\"type\":\"surface\",\"colorbar\":{\"outlinewidth\":0,\"ticks\":\"\"},\"colorscale\":[[0.0,\"#0d0887\"],[0.1111111111111111,\"#46039f\"],[0.2222222222222222,\"#7201a8\"],[0.3333333333333333,\"#9c179e\"],[0.4444444444444444,\"#bd3786\"],[0.5555555555555556,\"#d8576b\"],[0.6666666666666666,\"#ed7953\"],[0.7777777777777778,\"#fb9f3a\"],[0.8888888888888888,\"#fdca26\"],[1.0,\"#f0f921\"]]}],\"mesh3d\":[{\"type\":\"mesh3d\",\"colorbar\":{\"outlinewidth\":0,\"ticks\":\"\"}}],\"scatter\":[{\"fillpattern\":{\"fillmode\":\"overlay\",\"size\":10,\"solidity\":0.2},\"type\":\"scatter\"}],\"parcoords\":[{\"type\":\"parcoords\",\"line\":{\"colorbar\":{\"outlinewidth\":0,\"ticks\":\"\"}}}],\"scatterpolargl\":[{\"type\":\"scatterpolargl\",\"marker\":{\"colorbar\":{\"outlinewidth\":0,\"ticks\":\"\"}}}],\"bar\":[{\"error_x\":{\"color\":\"#2a3f5f\"},\"error_y\":{\"color\":\"#2a3f5f\"},\"marker\":{\"line\":{\"color\":\"#E5ECF6\",\"width\":0.5},\"pattern\":{\"fillmode\":\"overlay\",\"size\":10,\"solidity\":0.2}},\"type\":\"bar\"}],\"scattergeo\":[{\"type\":\"scattergeo\",\"marker\":{\"colorbar\":{\"outlinewidth\":0,\"ticks\":\"\"}}}],\"scatterpolar\":[{\"type\":\"scatterpolar\",\"marker\":{\"colorbar\":{\"outlinewidth\":0,\"ticks\":\"\"}}}],\"histogram\":[{\"marker\":{\"pattern\":{\"fillmode\":\"overlay\",\"size\":10,\"solidity\":0.2}},\"type\":\"histogram\"}],\"scattergl\":[{\"type\":\"scattergl\",\"marker\":{\"colorbar\":{\"outlinewidth\":0,\"ticks\":\"\"}}}],\"scatter3d\":[{\"type\":\"scatter3d\",\"line\":{\"colorbar\":{\"outlinewidth\":0,\"ticks\":\"\"}},\"marker\":{\"colorbar\":{\"outlinewidth\":0,\"ticks\":\"\"}}}],\"scattermapbox\":[{\"type\":\"scattermapbox\",\"marker\":{\"colorbar\":{\"outlinewidth\":0,\"ticks\":\"\"}}}],\"scatterternary\":[{\"type\":\"scatterternary\",\"marker\":{\"colorbar\":{\"outlinewidth\":0,\"ticks\":\"\"}}}],\"scattercarpet\":[{\"type\":\"scattercarpet\",\"marker\":{\"colorbar\":{\"outlinewidth\":0,\"ticks\":\"\"}}}],\"carpet\":[{\"aaxis\":{\"endlinecolor\":\"#2a3f5f\",\"gridcolor\":\"white\",\"linecolor\":\"white\",\"minorgridcolor\":\"white\",\"startlinecolor\":\"#2a3f5f\"},\"baxis\":{\"endlinecolor\":\"#2a3f5f\",\"gridcolor\":\"white\",\"linecolor\":\"white\",\"minorgridcolor\":\"white\",\"startlinecolor\":\"#2a3f5f\"},\"type\":\"carpet\"}],\"table\":[{\"cells\":{\"fill\":{\"color\":\"#EBF0F8\"},\"line\":{\"color\":\"white\"}},\"header\":{\"fill\":{\"color\":\"#C8D4E3\"},\"line\":{\"color\":\"white\"}},\"type\":\"table\"}],\"barpolar\":[{\"marker\":{\"line\":{\"color\":\"#E5ECF6\",\"width\":0.5},\"pattern\":{\"fillmode\":\"overlay\",\"size\":10,\"solidity\":0.2}},\"type\":\"barpolar\"}],\"pie\":[{\"automargin\":true,\"type\":\"pie\"}]},\"layout\":{\"autotypenumbers\":\"strict\",\"colorway\":[\"#636efa\",\"#EF553B\",\"#00cc96\",\"#ab63fa\",\"#FFA15A\",\"#19d3f3\",\"#FF6692\",\"#B6E880\",\"#FF97FF\",\"#FECB52\"],\"font\":{\"color\":\"#2a3f5f\"},\"hovermode\":\"closest\",\"hoverlabel\":{\"align\":\"left\"},\"paper_bgcolor\":\"white\",\"plot_bgcolor\":\"#E5ECF6\",\"polar\":{\"bgcolor\":\"#E5ECF6\",\"angularaxis\":{\"gridcolor\":\"white\",\"linecolor\":\"white\",\"ticks\":\"\"},\"radialaxis\":{\"gridcolor\":\"white\",\"linecolor\":\"white\",\"ticks\":\"\"}},\"ternary\":{\"bgcolor\":\"#E5ECF6\",\"aaxis\":{\"gridcolor\":\"white\",\"linecolor\":\"white\",\"ticks\":\"\"},\"baxis\":{\"gridcolor\":\"white\",\"linecolor\":\"white\",\"ticks\":\"\"},\"caxis\":{\"gridcolor\":\"white\",\"linecolor\":\"white\",\"ticks\":\"\"}},\"coloraxis\":{\"colorbar\":{\"outlinewidth\":0,\"ticks\":\"\"}},\"colorscale\":{\"sequential\":[[0.0,\"#0d0887\"],[0.1111111111111111,\"#46039f\"],[0.2222222222222222,\"#7201a8\"],[0.3333333333333333,\"#9c179e\"],[0.4444444444444444,\"#bd3786\"],[0.5555555555555556,\"#d8576b\"],[0.6666666666666666,\"#ed7953\"],[0.7777777777777778,\"#fb9f3a\"],[0.8888888888888888,\"#fdca26\"],[1.0,\"#f0f921\"]],\"sequentialminus\":[[0.0,\"#0d0887\"],[0.1111111111111111,\"#46039f\"],[0.2222222222222222,\"#7201a8\"],[0.3333333333333333,\"#9c179e\"],[0.4444444444444444,\"#bd3786\"],[0.5555555555555556,\"#d8576b\"],[0.6666666666666666,\"#ed7953\"],[0.7777777777777778,\"#fb9f3a\"],[0.8888888888888888,\"#fdca26\"],[1.0,\"#f0f921\"]],\"diverging\":[[0,\"#8e0152\"],[0.1,\"#c51b7d\"],[0.2,\"#de77ae\"],[0.3,\"#f1b6da\"],[0.4,\"#fde0ef\"],[0.5,\"#f7f7f7\"],[0.6,\"#e6f5d0\"],[0.7,\"#b8e186\"],[0.8,\"#7fbc41\"],[0.9,\"#4d9221\"],[1,\"#276419\"]]},\"xaxis\":{\"gridcolor\":\"white\",\"linecolor\":\"white\",\"ticks\":\"\",\"title\":{\"standoff\":15},\"zerolinecolor\":\"white\",\"automargin\":true,\"zerolinewidth\":2},\"yaxis\":{\"gridcolor\":\"white\",\"linecolor\":\"white\",\"ticks\":\"\",\"title\":{\"standoff\":15},\"zerolinecolor\":\"white\",\"automargin\":true,\"zerolinewidth\":2},\"scene\":{\"xaxis\":{\"backgroundcolor\":\"#E5ECF6\",\"gridcolor\":\"white\",\"linecolor\":\"white\",\"showbackground\":true,\"ticks\":\"\",\"zerolinecolor\":\"white\",\"gridwidth\":2},\"yaxis\":{\"backgroundcolor\":\"#E5ECF6\",\"gridcolor\":\"white\",\"linecolor\":\"white\",\"showbackground\":true,\"ticks\":\"\",\"zerolinecolor\":\"white\",\"gridwidth\":2},\"zaxis\":{\"backgroundcolor\":\"#E5ECF6\",\"gridcolor\":\"white\",\"linecolor\":\"white\",\"showbackground\":true,\"ticks\":\"\",\"zerolinecolor\":\"white\",\"gridwidth\":2}},\"shapedefaults\":{\"line\":{\"color\":\"#2a3f5f\"}},\"annotationdefaults\":{\"arrowcolor\":\"#2a3f5f\",\"arrowhead\":0,\"arrowwidth\":1},\"geo\":{\"bgcolor\":\"white\",\"landcolor\":\"#E5ECF6\",\"subunitcolor\":\"white\",\"showland\":true,\"showlakes\":true,\"lakecolor\":\"white\"},\"title\":{\"x\":0.05},\"mapbox\":{\"style\":\"light\"}}},\"xaxis\":{\"anchor\":\"y\",\"domain\":[0.0,1.0],\"title\":{\"text\":\"x\"}},\"yaxis\":{\"anchor\":\"x\",\"domain\":[0.0,1.0],\"title\":{\"text\":\"y\"}},\"legend\":{\"title\":{\"text\":\"object\"},\"tracegroupgap\":0},\"margin\":{\"t\":60},\"height\":500,\"width\":800},                        {\"responsive\": true}                    ).then(function(){\n",
       "                            \n",
       "var gd = document.getElementById('c87905b7-a8da-4842-83f1-725c73a29868');\n",
       "var x = new MutationObserver(function (mutations, observer) {{\n",
       "        var display = window.getComputedStyle(gd).display;\n",
       "        if (!display || display === 'none') {{\n",
       "            console.log([gd, 'removed!']);\n",
       "            Plotly.purge(gd);\n",
       "            observer.disconnect();\n",
       "        }}\n",
       "}});\n",
       "\n",
       "// Listen for the removal of the full notebook cells\n",
       "var notebookContainer = gd.closest('#notebook-container');\n",
       "if (notebookContainer) {{\n",
       "    x.observe(notebookContainer, {childList: true});\n",
       "}}\n",
       "\n",
       "// Listen for the clearing of the current output cell\n",
       "var outputEl = gd.closest('.output');\n",
       "if (outputEl) {{\n",
       "    x.observe(outputEl, {childList: true});\n",
       "}}\n",
       "\n",
       "                        })                };                });            </script>        </div>"
      ]
     },
     "metadata": {},
     "output_type": "display_data"
    }
   ],
   "source": [
    "import plotly.express as px\n",
    "import plotly.offline as pyo\n",
    "import plotly.io as pio\n",
    "\n",
    "pio.renderers.default = 'notebook'\n",
    "pyo.init_notebook_mode(connected=True)\n",
    "\n",
    "fig = px.scatter(all_points, x='x', y='y', color=\"object\", symbol='object', hover_data='name', width=800, height=500)\n",
    "# fig = px.scatter(embeddingsdf, x='x', y='y')\n",
    "# fig = px.scatter(x=[0, 1, 2, 3, 4], y=[0, 1, 4, 9, 16])\n",
    "fig.show()"
   ]
  },
  {
   "cell_type": "code",
   "execution_count": 61,
   "id": "3d427058-cded-4e57-9c33-e21bd59d9317",
   "metadata": {},
   "outputs": [
    {
     "data": {
      "text/plain": [
       "{'1994757293': {'id': '1994757293',\n",
       "  'member_id': '249824483',\n",
       "  'name': 'Garo K.',\n",
       "  'topics': [],\n",
       "  'membership_role': 'MEMBER',\n",
       "  'membership_status': 'ACTIVE'},\n",
       " '1993040306': {'id': '1993040306',\n",
       "  'member_id': '13483320',\n",
       "  'name': 'Jens Bendisposto',\n",
       "  'topics': [{'id': '5938', 'name': 'Экстремальное программирование'},\n",
       "   {'id': '8192', 'name': 'Открытый код'},\n",
       "   {'id': '15167', 'name': 'Облачные вычисления'},\n",
       "   {'id': '15582', 'name': 'Веб-разработки'},\n",
       "   {'id': '21549', 'name': 'Управление проектами Agile'},\n",
       "   {'id': '32528', 'name': 'Компьютерное программирование'},\n",
       "   {'id': '40786', 'name': 'Spring-фрэймворк'},\n",
       "   {'id': '57874', 'name': 'Java'},\n",
       "   {'id': '120095', 'name': 'Разработка ПО'},\n",
       "   {'id': '152904', 'name': 'Scrum'},\n",
       "   {'id': '263631', 'name': 'Разработка через тестирование'},\n",
       "   {'id': '643822', 'name': 'Автоматизация тестирования'},\n",
       "   {'id': '788002', 'name': 'Веб-технологии'},\n",
       "   {'id': '1056672', 'name': 'Большие данные'},\n",
       "   {'id': '1500712', 'name': 'Тестирование и контроль качества ПО'}],\n",
       "  'membership_role': 'ORGANIZER',\n",
       "  'membership_status': 'LEADER'},\n",
       " '1993061061': {'id': '1993061061',\n",
       "  'member_id': '364404770',\n",
       "  'name': 'Max M.',\n",
       "  'topics': [],\n",
       "  'membership_role': 'MEMBER',\n",
       "  'membership_status': 'ACTIVE'},\n",
       " '1994062788': {'id': '1994062788',\n",
       "  'member_id': '303599458',\n",
       "  'name': 'Sven',\n",
       "  'topics': [{'id': '120095', 'name': 'Разработка ПО'}],\n",
       "  'membership_role': 'MEMBER',\n",
       "  'membership_status': 'ACTIVE'},\n",
       " '1993042201': {'id': '1993042201',\n",
       "  'member_id': '100087532',\n",
       "  'name': 'Georg Berky',\n",
       "  'topics': [],\n",
       "  'membership_role': 'MEMBER',\n",
       "  'membership_status': 'ACTIVE'},\n",
       " '1993275497': {'id': '1993275497',\n",
       "  'member_id': '269683574',\n",
       "  'name': 'Rolf Dunker',\n",
       "  'topics': [{'id': '18864', 'name': 'Научная фантастика'},\n",
       "   {'id': '18902', 'name': 'Философия'},\n",
       "   {'id': '21274', 'name': 'Электронное обучение'},\n",
       "   {'id': '103276', 'name': 'Информатика'},\n",
       "   {'id': '153303', 'name': 'Мобильное обучение'},\n",
       "   {'id': '164396', 'name': 'Тайский язык и культура'},\n",
       "   {'id': '1446892', 'name': 'Астрономия'}],\n",
       "  'membership_role': 'MEMBER',\n",
       "  'membership_status': 'ACTIVE'},\n",
       " '1994717743': {'id': '1994717743',\n",
       "  'member_id': '397831015',\n",
       "  'name': 'Taha El Amine Kassabi',\n",
       "  'topics': [],\n",
       "  'membership_role': 'MEMBER',\n",
       "  'membership_status': 'ACTIVE'},\n",
       " '1994206223': {'id': '1994206223',\n",
       "  'member_id': '418080120',\n",
       "  'name': 'Lucas',\n",
       "  'topics': [{'id': '659', 'name': 'Веб-дизайн'},\n",
       "   {'id': '15582', 'name': 'Веб-разработки'},\n",
       "   {'id': '18071', 'name': 'Проведение игры'},\n",
       "   {'id': '18517', 'name': 'Научная фантастика/фэнтэзи'},\n",
       "   {'id': '32528', 'name': 'Компьютерное программирование'},\n",
       "   {'id': '76122', 'name': 'Драконы и подземелья'},\n",
       "   {'id': '108403', 'name': 'Технологические стартапы'},\n",
       "   {'id': '120095', 'name': 'Разработка ПО'},\n",
       "   {'id': '488822', 'name': 'Искусственный интеллект'},\n",
       "   {'id': '584902', 'name': 'Машинное обучение'}],\n",
       "  'membership_role': 'MEMBER',\n",
       "  'membership_status': 'ACTIVE'},\n",
       " '1993112862': {'id': '1993112862',\n",
       "  'member_id': '213120918',\n",
       "  'name': 'Lukas Ladenberger',\n",
       "  'topics': [],\n",
       "  'membership_role': 'COORGANIZER',\n",
       "  'membership_status': 'LEADER'},\n",
       " '1994806760': {'id': '1994806760',\n",
       "  'member_id': '242521928',\n",
       "  'name': 'Michael Müller',\n",
       "  'topics': [{'id': '8192', 'name': 'Открытый код'},\n",
       "   {'id': '9696', 'name': 'Новая технология'},\n",
       "   {'id': '21549', 'name': 'Управление проектами Agile'},\n",
       "   {'id': '120095', 'name': 'Разработка ПО'}],\n",
       "  'membership_role': 'MEMBER',\n",
       "  'membership_status': 'ACTIVE'},\n",
       " '1994838508': {'id': '1994838508',\n",
       "  'member_id': '222996351',\n",
       "  'name': 'Jörg Friebel',\n",
       "  'topics': [{'id': '8192', 'name': 'Открытый код'},\n",
       "   {'id': '9696', 'name': 'Новая технология'},\n",
       "   {'id': '10438', 'name': 'DIY (сделай сам)'},\n",
       "   {'id': '15814', 'name': 'На свежем воздухе'},\n",
       "   {'id': '35170', 'name': 'Пешие прогулки'},\n",
       "   {'id': '101553', 'name': 'Мобильная технология'},\n",
       "   {'id': '120095', 'name': 'Разработка ПО'},\n",
       "   {'id': '132340', 'name': 'Прогулки на природе'}],\n",
       "  'membership_role': 'MEMBER',\n",
       "  'membership_status': 'ACTIVE'},\n",
       " '1995182482': {'id': '1995182482',\n",
       "  'member_id': '418714673',\n",
       "  'name': 'Christoph Hösl',\n",
       "  'topics': [{'id': '659', 'name': 'Веб-дизайн'},\n",
       "   {'id': '9696', 'name': 'Новая технология'},\n",
       "   {'id': '15231', 'name': 'Молодые специалисты'},\n",
       "   {'id': '15582', 'name': 'Веб-разработки'},\n",
       "   {'id': '16048', 'name': 'Недавно в городе'},\n",
       "   {'id': '17381', 'name': 'Профессиональное создание сети'},\n",
       "   {'id': '19029', 'name': 'Смена карьеры'},\n",
       "   {'id': '26468', 'name': 'Архитектура программного обеспечения'},\n",
       "   {'id': '54493', 'name': 'Лидерство'},\n",
       "   {'id': '120095', 'name': 'Разработка ПО'},\n",
       "   {'id': '788002', 'name': 'Веб-технологии'},\n",
       "   {'id': '1056672', 'name': 'Большие данные'}],\n",
       "  'membership_role': 'MEMBER',\n",
       "  'membership_status': 'ACTIVE'},\n",
       " '1995059546': {'id': '1995059546',\n",
       "  'member_id': '139893052',\n",
       "  'name': 'Sandra Parsick',\n",
       "  'topics': [{'id': '8192', 'name': 'Открытый код'},\n",
       "   {'id': '9696', 'name': 'Новая технология'},\n",
       "   {'id': '15167', 'name': 'Облачные вычисления'},\n",
       "   {'id': '17628', 'name': 'Языки программирования'},\n",
       "   {'id': '21549', 'name': 'Управление проектами Agile'},\n",
       "   {'id': '26468', 'name': 'Архитектура программного обеспечения'},\n",
       "   {'id': '27922', 'name': 'Постоянная интеграция'},\n",
       "   {'id': '32528', 'name': 'Компьютерное программирование'},\n",
       "   {'id': '40786', 'name': 'Spring-фрэймворк'},\n",
       "   {'id': '57874', 'name': 'Java'},\n",
       "   {'id': '65025', 'name': 'Собственная разработка'},\n",
       "   {'id': '120095', 'name': 'Разработка ПО'},\n",
       "   {'id': '166000', 'name': 'Непрерывная подача'},\n",
       "   {'id': '263631', 'name': 'Разработка через тестирование'},\n",
       "   {'id': '1056672', 'name': 'Большие данные'},\n",
       "   {'id': '1256862', 'name': 'MongoDB'},\n",
       "   {'id': '1516881', 'name': 'NoSQL'}],\n",
       "  'membership_role': 'MEMBER',\n",
       "  'membership_status': 'ACTIVE'},\n",
       " '1993153592': {'id': '1993153592',\n",
       "  'member_id': '386278163',\n",
       "  'name': 'Niklas Empt',\n",
       "  'topics': [],\n",
       "  'membership_role': 'MEMBER',\n",
       "  'membership_status': 'ACTIVE'},\n",
       " '1993274440': {'id': '1993274440',\n",
       "  'member_id': '185033040',\n",
       "  'name': 'Sascha Feldmann',\n",
       "  'topics': [{'id': '121324', 'name': 'Образование и технологии'}],\n",
       "  'membership_role': 'MEMBER',\n",
       "  'membership_status': 'ACTIVE'},\n",
       " '1994595427': {'id': '1994595427',\n",
       "  'member_id': '269812449',\n",
       "  'name': 'Tobias Endres',\n",
       "  'topics': [{'id': '659', 'name': 'Веб-дизайн'},\n",
       "   {'id': '4471', 'name': 'Видеоигры'},\n",
       "   {'id': '8192', 'name': 'Открытый код'},\n",
       "   {'id': '16425', 'name': 'Ролевые игры (РПГ)'},\n",
       "   {'id': '16714', 'name': 'Ролевые игры настольного типа'},\n",
       "   {'id': '18071', 'name': 'Проведение игры'},\n",
       "   {'id': '23079', 'name': 'Игры'},\n",
       "   {'id': '26468', 'name': 'Архитектура программного обеспечения'},\n",
       "   {'id': '32528', 'name': 'Компьютерное программирование'},\n",
       "   {'id': '33161', 'name': 'Предметно-ориентированное программирование'},\n",
       "   {'id': '109937', 'name': 'Настольные игры'},\n",
       "   {'id': '120095', 'name': 'Разработка ПО'},\n",
       "   {'id': '167221', 'name': 'Ночные игры'},\n",
       "   {'id': '169853', 'name': 'Стратегические настольные игры'}],\n",
       "  'membership_role': 'MEMBER',\n",
       "  'membership_status': 'ACTIVE'},\n",
       " '1993870690': {'id': '1993870690',\n",
       "  'member_id': '251575551',\n",
       "  'name': 'Dirk Koerbis',\n",
       "  'topics': [],\n",
       "  'membership_role': 'MEMBER',\n",
       "  'membership_status': 'ACTIVE'},\n",
       " '1994501266': {'id': '1994501266',\n",
       "  'member_id': '265824357',\n",
       "  'name': 'Peter\\xa0\\xa0\\xa0\\xa0\\xa0\\xa0\\xa0\\xa0\\xa0\\xa0\\xa0\\xa0\\xa0\\xa0\\xa0\\xa0\\xa0\\xa0\\xa0\\xa0\\xa0\\xa0Silie',\n",
       "  'topics': [],\n",
       "  'membership_role': 'MEMBER',\n",
       "  'membership_status': 'ACTIVE'},\n",
       " '1994615185': {'id': '1994615185',\n",
       "  'member_id': '225900283',\n",
       "  'name': 'Ingo Weigelt',\n",
       "  'topics': [{'id': '8192', 'name': 'Открытый код'},\n",
       "   {'id': '9696', 'name': 'Новая технология'},\n",
       "   {'id': '15167', 'name': 'Облачные вычисления'},\n",
       "   {'id': '16225', 'name': 'Общение'},\n",
       "   {'id': '18865', 'name': 'Технология'},\n",
       "   {'id': '21355', 'name': 'Мобильные разработки'},\n",
       "   {'id': '32528', 'name': 'Компьютерное программирование'},\n",
       "   {'id': '37381', 'name': 'Визуализация данных'},\n",
       "   {'id': '102811', 'name': 'Обработка и анализ данных'},\n",
       "   {'id': '108403', 'name': 'Технологические стартапы'},\n",
       "   {'id': '120095', 'name': 'Разработка ПО'},\n",
       "   {'id': '128595', 'name': 'Интернет-стартапы'},\n",
       "   {'id': '584902', 'name': 'Машинное обучение'},\n",
       "   {'id': '1056672', 'name': 'Большие данные'},\n",
       "   {'id': '1493232', 'name': 'Блокчейн'},\n",
       "   {'id': '1515085', 'name': 'Аналитика данных'}],\n",
       "  'membership_role': 'COORGANIZER',\n",
       "  'membership_status': 'LEADER'}}"
      ]
     },
     "execution_count": 61,
     "metadata": {},
     "output_type": "execute_result"
    }
   ],
   "source": [
    "events_by_id['300283984']['attendees']"
   ]
  },
  {
   "cell_type": "code",
   "execution_count": 34,
   "id": "8c47aa12-18b3-45d5-9e30-8fd00d8ebdfc",
   "metadata": {},
   "outputs": [
    {
     "data": {
      "image/png": "[encoded data removed]",
      "text/plain": [
       "<Figure size 1000x800 with 1 Axes>"
      ]
     },
     "metadata": {},
     "output_type": "display_data"
    }
   ],
   "source": [
    "import matplotlib.pyplot as plt\n",
    "fig, ax = plt.subplots(figsize=(10,8))\n",
    "ax.scatter(all_points['x'], all_points['y'], color=\"c\")\n",
    "plt.title('Scatter plot of games using t-SNE')\n",
    "plt.show()"
   ]
  }
 ],
 "metadata": {
  "kernelspec": {
   "display_name": "Python 3 (ipykernel)",
   "language": "python",
   "name": "python3"
  },
  "language_info": {
   "codemirror_mode": {
    "name": "ipython",
    "version": 3
   },
   "file_extension": ".py",
   "mimetype": "text/x-python",
   "name": "python",
   "nbconvert_exporter": "python",
   "pygments_lexer": "ipython3",
   "version": "3.12.3"
  }
 },
 "nbformat": 4,
 "nbformat_minor": 5
}
