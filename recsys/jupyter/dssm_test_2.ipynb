{
 "cells": [
  {
   "cell_type": "code",
   "execution_count": 3,
   "id": "769018f8-6398-4166-97c8-5d5ea52c51f6",
   "metadata": {},
   "outputs": [],
   "source": [
    "from pathlib import Path\n",
    "from datetime import datetime\n",
    "import json\n",
    "\n",
    "import polars as pl\n",
    "import numpy as np\n",
    "from tqdm import tqdm"
   ]
  },
  {
   "cell_type": "code",
   "execution_count": 4,
   "id": "b726daa2-1d04-448b-b04e-f0bbc38635a4",
   "metadata": {},
   "outputs": [],
   "source": [
    "events_by_id = {}\n",
    "\n",
    "\n",
    "# just fill events_by_id from parsed data\n",
    "events_dir = Path('meetup_parser/simple/meetup_parsing/nl--Amsterdam/')\n",
    "for event_dir in events_dir.iterdir():\n",
    "    if not event_dir.is_dir():\n",
    "        continue\n",
    "\n",
    "    with open(event_dir / 'event') as event_fd:\n",
    "        event = json.loads(event_fd.read())\n",
    "        event_start_dt = datetime.fromisoformat(event['event_start_dt'])\n",
    "        event['event_start_ts'] = event_start_dt.timestamp()\n",
    "        attendees_data = (json.loads(attendee_file.open().read()) for attendee_file in (event_dir / 'attendees').iterdir())\n",
    "        \n",
    "        event_attendees = {\n",
    "            attendee_data['member_id']: attendee_data\n",
    "            for attendee_data in attendees_data\n",
    "        }\n",
    "        \n",
    "        events_by_id[event['id']] = {\n",
    "            'event': event,\n",
    "            'attendees': event_attendees,\n",
    "        }"
   ]
  },
  {
   "cell_type": "code",
   "execution_count": 5,
   "id": "a15f8072-5846-4c21-82d0-c13be0741e9c",
   "metadata": {},
   "outputs": [],
   "source": [
    "def get_attendee_descrition(topics):\n",
    "    if len(topics) == 0:\n",
    "        return ''\n",
    "        \n",
    "    attendee_descrition = 'Hello! My interests are: '\n",
    "    for topic in topics:\n",
    "        attendee_descrition += topic['name'] + ', '\n",
    "    return attendee_descrition"
   ]
  },
  {
   "cell_type": "code",
   "execution_count": 6,
   "id": "b91f7fec-c36c-4de7-a789-21211a85960d",
   "metadata": {},
   "outputs": [
    {
     "name": "stdout",
     "output_type": "stream",
     "text": [
      "events_descr_embeddings len 2025\n",
      "attendees_embeddings len 17434\n"
     ]
    }
   ],
   "source": [
    "events_descr_embeddings = np.load('minilm_384d_embeddings_amsterdam.npy')\n",
    "attendees_embeddings = np.load('minilm_384d_amsterdam_attendees_embeddings_v2.npy')\n",
    "\n",
    "print('events_descr_embeddings len', len(events_descr_embeddings))\n",
    "print('attendees_embeddings len', len(attendees_embeddings))"
   ]
  },
  {
   "cell_type": "code",
   "execution_count": 8,
   "id": "26e84691-5a76-4995-85dd-e676c38c5d7d",
   "metadata": {},
   "outputs": [
    {
     "name": "stdout",
     "output_type": "stream",
     "text": [
      "total attendees: 21090\n",
      "attendees_by_id len: 17434\n",
      "events_embeddings_by_id len 2025\n",
      "attendees_embeddings_by_id len 17434\n"
     ]
    }
   ],
   "source": [
    "attendees = [(attendee_data['member_id'], get_attendee_descrition(attendee_data['topics'])) for event in events_by_id.values() for attendee_id,attendee_data  in event['attendees'].items()]\n",
    "print('total attendees:', len(attendees))\n",
    "attendees_by_id = {attendee_id: description for attendee_id, description in attendees}\n",
    "print('attendees_by_id len:', len(attendees_by_id))\n",
    "\n",
    "events_embeddings_by_id = {event_id: event_embedding for event_id, event_embedding in zip(events_by_id.keys(), events_descr_embeddings)}\n",
    "print('events_embeddings_by_id len', len(events_embeddings_by_id))\n",
    "\n",
    "attendees_embeddings_by_id = {attendee_id: embedding for attendee_id, embedding in zip(attendees_by_id.keys(), attendees_embeddings)}\n",
    "print('attendees_embeddings_by_id len', len(attendees_embeddings_by_id))"
   ]
  },
  {
   "cell_type": "code",
   "execution_count": 9,
   "id": "93650278-eb8f-4e7f-930e-98b9a373aabe",
   "metadata": {},
   "outputs": [
    {
     "name": "stderr",
     "output_type": "stream",
     "text": [
      "/home/radmirkus/FILES/study_itmo/diploma/venv/lib/python3.12/site-packages/tqdm/auto.py:21: TqdmWarning: IProgress not found. Please update jupyter and ipywidgets. See https://ipywidgets.readthedocs.io/en/stable/user_install.html\n",
      "  from .autonotebook import tqdm as notebook_tqdm\n"
     ]
    }
   ],
   "source": [
    "# SetUp qdrant client\n",
    "from qdrant_client import QdrantClient, models\n",
    "\n",
    "qdrant_client = QdrantClient(url=\"http://localhost:6333\")\n",
    "\n",
    "EVENTS_COLLECTION = 'events'\n",
    "ATTENDEES_COLLECTION = 'attendees'"
   ]
  },
  {
   "cell_type": "code",
   "execution_count": 10,
   "id": "a616197b-2f44-43d7-a1fb-fb7fcca11076",
   "metadata": {},
   "outputs": [],
   "source": [
    "events_by_attendees = {}\n",
    "for event_id, event in events_by_id.items():\n",
    "    for attendee in event['attendees'].values():\n",
    "        attendee_id = attendee['member_id']\n",
    "        if not attendee_id in events_by_attendees:\n",
    "            events_by_attendees[attendee_id] = []\n",
    "        events_by_attendees[attendee_id].append(event_id)"
   ]
  },
  {
   "cell_type": "code",
   "execution_count": 11,
   "id": "cb1c4622-271c-4d9b-b06b-704d1ad675be",
   "metadata": {},
   "outputs": [],
   "source": [
    "# recommenders\n",
    "\n",
    "import random\n",
    "\n",
    "def get_top_k_dssm_recommendations(K: int) -> dict:\n",
    "    # Basic DSSM approach for top K events\n",
    "    recomendations_by_attendees_top_k = {}\n",
    "    \n",
    "    \n",
    "    for attendee_id, events_ids in events_by_attendees.items():\n",
    "        req_attendee_emb = attendees_embeddings_by_id[attendee_id]\n",
    "        top_k_recommendations = qdrant_client.search('events', req_attendee_emb, limit=K, with_vectors=True, with_payload=True)\n",
    "        recomendations_by_attendees_top_k[attendee_id] = []\n",
    "        \n",
    "        for rec in top_k_recommendations:\n",
    "            recomendations_by_attendees_top_k[attendee_id].append(rec)\n",
    "\n",
    "    return recomendations_by_attendees_top_k\n",
    "\n",
    "# returns top_k_recommendations_events_ids, top_k_recommendations_events_vecs\n",
    "def get_top_k_random_recommendations(K: int) -> dict[str, (list, list)]:\n",
    "    # Random recommendation approach for top K events\n",
    "    recomendations_by_attendees_top_k = {}\n",
    "\n",
    "    all_events_ids = list(events_by_id.keys())\n",
    "    \n",
    "    for attendee_id, events_ids in events_by_attendees.items():\n",
    "        req_attendee_emb = attendees_embeddings_by_id[attendee_id]\n",
    "        top_k_recommendations_events_ids = random.choices(all_events_ids, k=K)\n",
    "        top_k_recommendations_events_vecs = [events_embeddings_by_id[rec_event_id] for rec_event_id in top_k_recommendations_events_ids]\n",
    "        \n",
    "        \n",
    "        recomendations_by_attendees_top_k[attendee_id] = (top_k_recommendations_events_ids, top_k_recommendations_events_vecs)\n",
    "    \n",
    "    return recomendations_by_attendees_top_k\n",
    "\n",
    "\n",
    "def get_top_k_randomized_dssm_recommendations(K: int) -> dict:\n",
    "    # Multi-armed bandit DSSM approach for top K events\n",
    "    RAND_AMPLITUDE_COEF = 0.07  # coefficient to regulate randomiastion impact\n",
    "    recomendations_by_attendees_top_k = {}    \n",
    "    \n",
    "    for attendee_id, events_ids in events_by_attendees.items():\n",
    "        req_attendee_emb = attendees_embeddings_by_id[attendee_id]\n",
    "        top_k_recommendations = qdrant_client.search('events', req_attendee_emb, limit=K*2, with_vectors=True, with_payload=True)\n",
    "        \n",
    "        # re-weight recommendations\n",
    "        for rec in top_k_recommendations:\n",
    "            rec.score += random.uniform(-1, 1) * RAND_AMPLITUDE_COEF\n",
    "        top_k_recommendations = sorted(top_k_recommendations, key=lambda rec: rec.score, reverse=True)[:K]                              \n",
    "        recomendations_by_attendees_top_k[attendee_id] = top_k_recommendations\n",
    "\n",
    "    return recomendations_by_attendees_top_k"
   ]
  },
  {
   "cell_type": "code",
   "execution_count": 12,
   "id": "5fba44bb-ae18-4ff4-b777-3a5b2b438bef",
   "metadata": {},
   "outputs": [],
   "source": [
    "from scipy.spatial import distance\n",
    "import recsys_vec_metrics\n",
    "\n",
    "\n",
    "def calculate_metrics_for_qdrant_recommendations(recomendations_by_attendees_top_k) -> dict:\n",
    "    recomendations_items_by_attendees = {\n",
    "        attendee_id: [recomendation.payload['event']['id'] for recomendation in recomendations]\n",
    "        for attendee_id, recomendations\n",
    "        in recomendations_by_attendees_top_k.items()\n",
    "    }\n",
    "    print('recomendations_by_attendees len', len(recomendations_items_by_attendees))\n",
    "    \n",
    "    recomendations_vecs_by_attendees = {\n",
    "        attendee_id: [recomendation.vector for recomendation in recomendations]\n",
    "        for attendee_id, recomendations\n",
    "        in recomendations_by_attendees_top_k.items()\n",
    "    }\n",
    "    \n",
    "    metrics_calculator = recsys_vec_metrics.MetricsCalculator(similarity_func=distance.cosine)\n",
    "    return metrics_calculator.get_all_metrics(\n",
    "        events_by_attendees.values(),\n",
    "        recomendations_items_by_attendees.values(),\n",
    "        recomendations_vecs_by_attendees.values(),\n",
    "        events_embeddings_by_id,\n",
    "    )\n",
    "\n",
    "def calculate_metrics_for_recommendations(recomendations_by_attendees_top_k) -> dict:\n",
    "    recomendations_items_by_attendees = {\n",
    "        attendee_id: recomendations[0]\n",
    "        for attendee_id, recomendations\n",
    "        in recomendations_by_attendees_top_k.items()\n",
    "    }\n",
    "    print('recomendations_by_attendees len', len(recomendations_items_by_attendees))\n",
    "    \n",
    "    recomendations_vecs_by_attendees = {\n",
    "        attendee_id: recomendations[1]\n",
    "        for attendee_id, recomendations\n",
    "        in recomendations_by_attendees_top_k.items()\n",
    "    }    \n",
    "    \n",
    "    metrics_calculator = recsys_vec_metrics.MetricsCalculator(similarity_func=distance.cosine)\n",
    "    return metrics_calculator.get_all_metrics(\n",
    "        events_by_attendees.values(),\n",
    "        recomendations_items_by_attendees.values(),\n",
    "        recomendations_vecs_by_attendees.values(),\n",
    "        events_embeddings_by_id,\n",
    "    )"
   ]
  },
  {
   "cell_type": "code",
   "execution_count": 8,
   "id": "3f730658-b78c-4f9c-89aa-f49142995612",
   "metadata": {},
   "outputs": [],
   "source": [
    "# Basic DSSM approach for top 5 events\n",
    "recomendations_by_attendees_top_5 = get_top_k_dssm_recommendations(5)\n",
    "print('recomendations_by_attendees_top_5 len', len(recomendations_by_attendees_top_5))\n",
    "calculated_metrics_basic_dssm_top_5 = calculate_metrics_for_qdrant_recommendations(recomendations_by_attendees_top_5)\n",
    "calculated_metrics_basic_dssm_top_5"
   ]
  },
  {
   "cell_type": "code",
   "execution_count": 23,
   "id": "1421df7d-f45d-4e1d-9f86-cfc53b3376d5",
   "metadata": {},
   "outputs": [],
   "source": [
    "# Basic DSSM approach for top 10 events\n",
    "recomendations_by_attendees_top_10 = get_top_k_dssm_recommendations(10)\n",
    "print('recomendations_by_attendees_top_10 len', len(recomendations_by_attendees_top_10))\n",
    "calculated_metrics_basic_dssm_top_10 = calculate_metrics_for_qdrant_recommendations(recomendations_by_attendees_top_10)\n",
    "calculated_metrics_basic_dssm_top_10"
   ]
  },
  {
   "cell_type": "code",
   "execution_count": 24,
   "id": "870eb8dd-54a6-421b-ada9-31fa43e6f354",
   "metadata": {},
   "outputs": [
    {
     "name": "stdout",
     "output_type": "stream",
     "text": [
      "recomendations_by_attendees_top_10 len 17434\n",
      "recomendations_by_attendees len 17434\n",
      "recomendations_by_attendees len 17434\n"
     ]
    },
    {
     "data": {
      "text/plain": [
       "{'Precision@K': 0.001296317540438224,\n",
       " 'Recall@K': 0.010715979137031768,\n",
       " 'F1@k': 0.0023128485902880825,\n",
       " 'Coverage': 0.4059259259259259,\n",
       " 'Diversity': 4.144171380071656,\n",
       " 'Personalisation': 0.7248802382762798,\n",
       " 'Novelty': 0.5412270319039505,\n",
       " 'Serendipity': 0.004285025776915403}"
      ]
     },
     "execution_count": 24,
     "metadata": {},
     "output_type": "execute_result"
    }
   ],
   "source": [
    "# calculate metrics for this recommendations top 10"
   ]
  },
  {
   "cell_type": "code",
   "execution_count": 9,
   "id": "b891e655-9003-48bc-8667-e5d7b207c44a",
   "metadata": {
    "scrolled": true
   },
   "outputs": [
    {
     "name": "stdout",
     "output_type": "stream",
     "text": [
      "recomendations_by_attendees len 17434\n",
      "recomendations_by_attendees len 17434\n"
     ]
    },
    {
     "data": {
      "text/plain": [
       "{'Precision@K': 0.0013307330503613628,\n",
       " 'Recall@K': 0.005500237079184448,\n",
       " 'F1@k': 0.002142989100314059,\n",
       " 'Coverage': 0.3037037037037037,\n",
       " 'Diversity': 6.261786211931749,\n",
       " 'Personalisation': 0.7450771640582783,\n",
       " 'Novelty': 0.5695223906605548,\n",
       " 'Serendipity': 0.001765089763932042}"
      ]
     },
     "execution_count": 9,
     "metadata": {},
     "output_type": "execute_result"
    }
   ],
   "source": [
    "# calculate metrics for this recommendations top 5"
   ]
  },
  {
   "cell_type": "code",
   "execution_count": 13,
   "id": "78cddd94-212f-4146-8331-b865e622c4cc",
   "metadata": {
    "scrolled": true
   },
   "outputs": [
    {
     "name": "stdout",
     "output_type": "stream",
     "text": [
      "rand_recomendations_by_attendees_top_5 len 17434\n",
      "recomendations_by_attendees len 17434\n"
     ]
    },
    {
     "data": {
      "text/plain": [
       "{'Precision@K': 0.0005735918320523115,\n",
       " 'Recall@K': 0.002370791844476055,\n",
       " 'F1@k': 0.0009237021984112321,\n",
       " 'Coverage': 1.0,\n",
       " 'Diversity': 2.684107079745868,\n",
       " 'Personalisation': 0.9974745311605654,\n",
       " 'Novelty': 0.4475721972024242,\n",
       " 'Serendipity': 0.0009959553160730028}"
      ]
     },
     "execution_count": 13,
     "metadata": {},
     "output_type": "execute_result"
    }
   ],
   "source": [
    "# Random approach for top 5 events\n",
    "rand_recomendations_by_attendees_top_5 = get_top_k_random_recommendations(5)\n",
    "print('rand_recomendations_by_attendees_top_5 len', len(rand_recomendations_by_attendees_top_10))\n",
    "calculated_metrics_random_top_5 = calculate_metrics_for_recommendations(rand_recomendations_by_attendees_top_5)\n",
    "calculated_metrics_random_top_5"
   ]
  },
  {
   "cell_type": "code",
   "execution_count": 12,
   "id": "d229b861-1ea0-47f9-966e-c899aaba52b8",
   "metadata": {
    "scrolled": true
   },
   "outputs": [
    {
     "name": "stdout",
     "output_type": "stream",
     "text": [
      "rand_recomendations_by_attendees_top_10 len 17434\n",
      "recomendations_by_attendees len 17434\n"
     ]
    },
    {
     "data": {
      "text/plain": [
       "{'Precision@K': 0.0005907995870138809,\n",
       " 'Recall@K': 0.004883831199620673,\n",
       " 'F1@k': 0.0010540858619454536,\n",
       " 'Coverage': 1.0,\n",
       " 'Diversity': 2.3829064391990387,\n",
       " 'Personalisation': 0.9950061984371903,\n",
       " 'Novelty': 0.44758696549273436,\n",
       " 'Serendipity': 0.0024841501366166486}"
      ]
     },
     "execution_count": 12,
     "metadata": {},
     "output_type": "execute_result"
    }
   ],
   "source": [
    "# Random approach for top 10 events\n",
    "rand_recomendations_by_attendees_top_10 = get_top_k_random_recommendations(10)\n",
    "print('rand_recomendations_by_attendees_top_10 len', len(rand_recomendations_by_attendees_top_10))\n",
    "calculated_metrics_random_top_10 = calculate_metrics_for_recommendations(rand_recomendations_by_attendees_top_10)\n",
    "calculated_metrics_random_top_10"
   ]
  },
  {
   "cell_type": "code",
   "execution_count": 16,
   "id": "d5d576b3-1e21-42ce-b6e6-b4aca3de5cda",
   "metadata": {
    "scrolled": true
   },
   "outputs": [
    {
     "data": {
      "text/plain": [
       "[ScoredPoint(id='39339dcd-66a3-4cf2-87b3-cff40fcaa20e', version=3, score=0.6852265, payload={'attendees': {'199164293': {'id': '1993954421', 'member_id': '199164293', 'membership_role': 'ORGANIZER', 'membership_status': 'LEADER', 'name': 'Anne', 'topics': [{'id': '1527', 'name': 'Духовный поиск'}, {'id': '10438', 'name': 'DIY (сделай сам)'}, {'id': '14657', 'name': 'Социальные вопросы'}, {'id': '16285', 'name': 'Путешествия'}, {'id': '16346', 'name': 'Ремёсла'}, {'id': '16881', 'name': 'Женская социальная сеть'}, {'id': '16944', 'name': 'Расширение прав и возможностей женщин'}, {'id': '17012', 'name': 'Мир'}, {'id': '17704', 'name': 'Танец и движение'}, {'id': '17865', 'name': 'Время развлечений'}, {'id': '18280', 'name': 'Сотрудничество творческих умов'}, {'id': '18489', 'name': 'Ходьба'}, {'id': '18522', 'name': 'Обучение'}, {'id': '19991', 'name': 'Японская культура'}, {'id': '20453', 'name': 'Сторителлинг'}, {'id': '20509', 'name': 'Уроки танцев'}, {'id': '20970', 'name': 'Беседа'}, {'id': '21137', 'name': 'Активные виды спорта'}, {'id': '21517', 'name': 'Самопомощь и самосовершенствование'}, {'id': '21808', 'name': 'Социальная инновация'}]}, '267771451': {'id': '1994112706', 'member_id': '267771451', 'membership_role': 'MEMBER', 'membership_status': 'ACTIVE', 'name': 'Mayleen', 'topics': []}, '311418093': {'id': '1994308678', 'member_id': '311418093', 'membership_role': 'MEMBER', 'membership_status': 'ACTIVE', 'name': 'Shahinez Terra', 'topics': [{'id': '1527', 'name': 'Духовный поиск'}, {'id': '9696', 'name': 'Новая технология'}, {'id': '10438', 'name': 'DIY (сделай сам)'}, {'id': '14657', 'name': 'Социальные вопросы'}, {'id': '15814', 'name': 'На свежем воздухе'}, {'id': '15824', 'name': 'Сообщества'}, {'id': '16346', 'name': 'Ремёсла'}, {'id': '16543', 'name': 'Нетрадиционная медицина'}, {'id': '17663', 'name': 'Идентификация растений'}, {'id': '18678', 'name': 'Ручная работа'}, {'id': '19490', 'name': 'Веганское питание'}, {'id': '20277', 'name': 'Ювелирное дело'}, {'id': '21604', 'name': 'Медитация и пение мантр'}, {'id': '21995', 'name': 'Шитье'}, {'id': '23314', 'name': 'Искусство работы с бумагой'}, {'id': '24270', 'name': 'Литература'}, {'id': '25204', 'name': 'Makers'}, {'id': '45330', 'name': 'Искусство'}, {'id': '46009', 'name': 'Медитация'}, {'id': '54059', 'name': 'Хобби'}]}, '413365967': {'id': '1995370284', 'member_id': '413365967', 'membership_role': 'MEMBER', 'membership_status': 'ACTIVE', 'name': 'hunault nicolas', 'topics': [{'id': '30003', 'name': 'Здоровье и благополучие'}, {'id': '72395', 'name': 'Физическое и психическое благополучие'}, {'id': '1515154', 'name': 'Самогипноз'}]}, '418857169': {'id': '1995340261', 'member_id': '418857169', 'membership_role': 'MEMBER', 'membership_status': 'ACTIVE', 'name': 'Christelle', 'topics': [{'id': '7319', 'name': 'Музей'}, {'id': '16784', 'name': 'Живопись'}, {'id': '17298', 'name': 'Художники'}, {'id': '18280', 'name': 'Сотрудничество творческих умов'}, {'id': '22806', 'name': 'Исполнительские искусства'}, {'id': '23884', 'name': 'Культурные мероприятия'}, {'id': '41644', 'name': 'Творчество'}, {'id': '45330', 'name': 'Искусство'}, {'id': '130965', 'name': 'Театр'}]}}, 'event': {'description': \"**Découvrir l'Art-Thérapie Spirituelle®**\\n\\u200b\\nVous vous intéressez aux couleurs, aux textures, à la spiritualité ?\\nVous aimez créer ?\\n\\u200bVous avez envie de trouver plus de sens et de profondeur dans votre métier ?\\nLe souhait de transmettre et d'accompagner ?\\n\\u200bRetrouver la joie d'être et de vivre dans une écologie de l'être du monde ?\\n\\u200b\\n**ÊTRE VIVANT !**\\n\\u200b\\nVenez découvrir l'Art-Thérapie Spirituelle®\\net les formations proposées !\\n\\u200b\\n**Visio conférence sur zoom**\\n**Évenement gratuit sur inscription uniquement**\\n\\u200b\\n*Après inscription, vous recevrez le lien zoom la veille du jour de la vision conférence*\", 'event_end_dt': None, 'event_start_dt': '2024-04-29T18:30:00+02:00', 'event_type': 'ONLINE', 'event_url': 'https://www.meetup.com/ru-RU/meetup-etresoi/events/300449079/', 'group': {'group_photo': 'https://secure.meetupstatic.com/photos/event/8/3/3/e/highres_505173598.jpeg', 'id': '19661416', 'is_new_group': False, 'is_private': False, 'name': 'Meetup Se connaître pour mieux Être', 'timezone': 'Europe/Paris', 'urlname': 'Meetup-Etresoi'}, 'high_res_photo_url': None, 'id': '300449079', 'is_online': True, 'rsvp_total_count': 5, 'social_labels': [], 'title': 'Conférence Rencontre Art-Thérapie Spirituelle®', 'venue': {'address': None, 'city': '', 'country': '', 'id': '26906060', 'lat': -8.521147, 'lon': 179.196198, 'name': 'Online event'}}}, vector=[0.05637703, 0.03178421, 0.031672575, 0.058242746, -0.030182024, 0.0033889741, 0.0068897437, -0.029063366, -0.0056013805, 0.07196972, -0.016721794, 0.019614974, 0.006625627, 0.0052561364, 0.044480618, -0.06124025, 0.010688414, -0.041417364, -0.006192792, 0.027510794, -0.004163698, -0.0065180245, -0.019442301, -0.023305627, 0.001166362, -0.037729707, -0.044591736, -0.0263096, -0.0068009607, -0.067206495, -0.012529049, 0.009483567, -0.008840587, 0.009365255, -0.028524404, 0.2340087, -0.049870227, 0.018438298, 0.03477661, 0.041187264, -0.056045372, 0.011337374, -0.043424495, 0.0172815, 0.041198153, -0.04248061, -0.0076754033, -0.040833976, 0.00738685, 0.0040692827, -0.023339761, -0.07164736, -0.05663973, 0.019213883, -0.030670693, 0.009738203, 0.013938535, -0.04081561, 0.054665726, 0.03882024, 0.0026733864, -0.020266118, 0.27742735, 0.06656784, -0.06625765, -0.043380983, -0.018454362, 0.012567251, 0.010503942, 0.0055150883, 0.048134852, -0.027795197, -0.07562009, -0.0064121047, 0.042113025, -0.053481396, -0.033471424, -0.008206498, -0.048946388, -0.05124753, 0.01316427, 0.014648386, -0.0480029, 0.020082025, 0.01496511, 0.08639302, -0.039897934, 0.021887572, 0.016811844, 0.033361603, 0.07172489, 0.0015246008, -0.04136371, 0.003029517, 0.003306808, -0.046790037, 0.009361291, -0.021720689, 0.022580745, 0.12080167, 0.01606643, 0.046484146, -0.0010290262, -0.019515159, -0.007151872, 0.023828242, -0.012151367, -0.0059750522, 0.044201013, 0.021376453, 0.05804558, -0.025757767, 0.022774123, -0.004274853, -0.037011653, 0.032972362, -0.038353022, -0.012264118, 0.0036186713, -0.007096479, 0.00862248, 0.0493406, 0.08650558, 0.08154336, 0.017944997, -0.045822013, 0.031108886, -0.018509148, 0.031067755, 0.02559465, 0.0017244319, -0.0022269178, 0.042278606, -0.010218663, -0.025570234, -0.069684185, -0.006420095, -0.05139681, 0.06356629, -0.011293237, 0.04171119, 0.077881336, -0.022634136, -0.02346938, 0.03822684, -0.0313303, -0.1242316, -0.03999855, 0.0026998443, 0.019786604, -0.039084688, 0.0077351844, -0.007475066, 0.032216463, 0.03774633, 0.03201677, -0.015190439, -0.035031505, 0.027162664, -0.057530317, 0.010828411, 0.0010852, -0.027800364, 0.00093643897, 0.0018679454, -0.016235108, -0.004744463, -0.00074432883, -0.012871395, 0.05235217, -0.022006508, -0.036508452, -0.020970747, 0.01452399, 0.065567926, -0.0013359014, 0.0053751697, 6.5492844e-05, -0.061011508, 0.010317888, 0.03570148, 0.009256968, 0.060012817, -0.027791029, -0.024651263, -0.004613254, 0.0025344915, 0.020481236, 0.03100475, 0.038403988, 0.006023676, -0.006504155, 0.028760942, -0.0017854756, -0.04327074, -0.0021138405, 0.0031091222, 0.06377444, -0.06499864, 0.051903225, -0.036592457, -0.0015962647, 0.07769257, 0.016421275, 0.004370676, -0.00536055, 0.00997603, 0.051784787, -0.01779754, 0.09443983, -0.036900695, 0.0060101864, 0.033044446, 0.0010640349, 0.012250915, 0.06037499, -0.043798175, -0.015802734, -0.012166105, -0.012634713, 0.044894133, -0.0068500685, -0.02582014, -0.039448686, 0.034179725, -0.017029224, 0.0030683181, -0.016842023, 0.013322848, 0.0048201988, -0.0021513358, 0.0042734086, -0.06765389, 0.05086355, 0.016818412, 0.06511426, -0.00875597, -0.048269395, -0.044478286, -0.020563833, -0.05572823, -0.020824624, 0.013311107, 0.064108536, 0.004825017, 0.010897927, -0.035222296, 0.02430756, 0.009114721, 0.073418185, 0.055924874, -0.044073354, 0.011992865, 0.03663547, 0.023020487, 0.012978859, -0.07430406, -0.010330986, -0.019626558, 0.046078727, -0.021427372, -0.051707778, -0.0049360627, 0.022779154, 0.011825005, -0.013889654, -0.018380133, 0.011875067, -0.08714393, -0.024743108, -0.022378897, 0.07275409, 0.024266183, -0.021611365, -0.048098534, -0.01564844, 0.031174885, -0.09167091, 0.097673066, -0.043416295, 0.016321259, -0.017578779, -0.01117614, 0.015869869, -0.034510836, -0.0178431, 0.024785003, 0.0056150323, 0.023493188, 0.002826664, 0.03060581, 0.13836724, -0.032670517, 0.027662087, 0.006101891, 0.03504793, 0.045788012, -0.106924824, 0.038285036, 0.057615604, 0.019188644, -0.030768335, 0.019681726, -0.018744927, 0.026364133, -0.037829805, 0.006458383, -0.014072534, 0.030282998, 0.018069418, -0.011671501, -0.0013835339, -0.008093013, 0.0390498, -0.0164474, -0.013107332, 0.010244704, 0.018299628, 0.06690778, -0.08393375, 0.025952186, 0.11592564, 0.009720828, 0.016773706, 0.010412734, 0.006411477, 0.08022238, -0.011397058, -0.11072969, 0.00994787, -0.0494494, -0.034384295, -0.02127511, 0.028364368, 0.04585294, 0.010824533, 0.012709892, -0.027805675, 0.054473963, -0.07515832, 0.013371069, 0.044363633, 0.034961544, -0.09405974, -0.057559814, 0.037834823, -0.012067751, 0.09214796, -0.02778225, 0.0073541133, 0.04562868, -0.51969373, -0.05591595, 0.0024181583, 0.02151684, -0.07818902, -0.07667106, -0.04739757, 0.019305509, 0.033647243, 0.035860725, 0.04794322, 0.08507175, 0.02390749, -0.038399123, -0.04575488, 0.024326678, 0.021475375, -0.0027468437, 0.10391635, -0.022774534, -0.03326451, 0.04886567, 0.0063674725, -0.0012734524, 0.038632613, 0.020968195, 0.0069341194, -0.04725994, 0.025619457, 0.05287518, 0.009026843, -0.06709577, 0.0055041723], shard_key=None)]"
      ]
     },
     "execution_count": 16,
     "metadata": {},
     "output_type": "execute_result"
    }
   ],
   "source": [
    "qdrant_client.search('events', attendees_embeddings[0], limit=1, with_vectors=True, with_payload=True)"
   ]
  },
  {
   "cell_type": "code",
   "execution_count": 30,
   "id": "fc691a50-caee-4a8d-8b88-398b2589e03e",
   "metadata": {},
   "outputs": [
    {
     "name": "stdout",
     "output_type": "stream",
     "text": [
      "dssm_randomized_recomendations_by_attendees_top_5 len 17434\n",
      "recomendations_by_attendees len 17434\n"
     ]
    },
    {
     "ename": "TypeError",
     "evalue": "unhashable type: 'dict'",
     "output_type": "error",
     "traceback": [
      "\u001b[0;31m---------------------------------------------------------------------------\u001b[0m",
      "\u001b[0;31mTypeError\u001b[0m                                 Traceback (most recent call last)",
      "Cell \u001b[0;32mIn[30], line 4\u001b[0m\n\u001b[1;32m      2\u001b[0m dssm_randomized_recomendations_by_attendees_top_5 \u001b[38;5;241m=\u001b[39m get_top_k_randomized_dssm_recommendations(\u001b[38;5;241m5\u001b[39m)\n\u001b[1;32m      3\u001b[0m \u001b[38;5;28mprint\u001b[39m(\u001b[38;5;124m'\u001b[39m\u001b[38;5;124mdssm_randomized_recomendations_by_attendees_top_5 len\u001b[39m\u001b[38;5;124m'\u001b[39m, \u001b[38;5;28mlen\u001b[39m(dssm_randomized_recomendations_by_attendees_top_5))\n\u001b[0;32m----> 4\u001b[0m calculated_metrics_dssm_randomized_top_5 \u001b[38;5;241m=\u001b[39m \u001b[43mcalculate_metrics_for_recommendations\u001b[49m\u001b[43m(\u001b[49m\u001b[43mdssm_randomized_recomendations_by_attendees_top_5\u001b[49m\u001b[43m)\u001b[49m\n\u001b[1;32m      5\u001b[0m calculated_metrics_dssm_randomized_top_5\n",
      "Cell \u001b[0;32mIn[11], line 42\u001b[0m, in \u001b[0;36mcalculate_metrics_for_recommendations\u001b[0;34m(recomendations_by_attendees_top_k)\u001b[0m\n\u001b[1;32m     35\u001b[0m recomendations_vecs_by_attendees \u001b[38;5;241m=\u001b[39m {\n\u001b[1;32m     36\u001b[0m     attendee_id: recomendations[\u001b[38;5;241m1\u001b[39m]\n\u001b[1;32m     37\u001b[0m     \u001b[38;5;28;01mfor\u001b[39;00m attendee_id, recomendations\n\u001b[1;32m     38\u001b[0m     \u001b[38;5;129;01min\u001b[39;00m recomendations_by_attendees_top_k\u001b[38;5;241m.\u001b[39mitems()\n\u001b[1;32m     39\u001b[0m }    \n\u001b[1;32m     41\u001b[0m metrics_calculator \u001b[38;5;241m=\u001b[39m recsys_vec_metrics\u001b[38;5;241m.\u001b[39mMetricsCalculator(similarity_func\u001b[38;5;241m=\u001b[39mdistance\u001b[38;5;241m.\u001b[39mcosine)\n\u001b[0;32m---> 42\u001b[0m \u001b[38;5;28;01mreturn\u001b[39;00m \u001b[43mmetrics_calculator\u001b[49m\u001b[38;5;241;43m.\u001b[39;49m\u001b[43mget_all_metrics\u001b[49m\u001b[43m(\u001b[49m\n\u001b[1;32m     43\u001b[0m \u001b[43m    \u001b[49m\u001b[43mevents_by_attendees\u001b[49m\u001b[38;5;241;43m.\u001b[39;49m\u001b[43mvalues\u001b[49m\u001b[43m(\u001b[49m\u001b[43m)\u001b[49m\u001b[43m,\u001b[49m\n\u001b[1;32m     44\u001b[0m \u001b[43m    \u001b[49m\u001b[43mrecomendations_items_by_attendees\u001b[49m\u001b[38;5;241;43m.\u001b[39;49m\u001b[43mvalues\u001b[49m\u001b[43m(\u001b[49m\u001b[43m)\u001b[49m\u001b[43m,\u001b[49m\n\u001b[1;32m     45\u001b[0m \u001b[43m    \u001b[49m\u001b[43mrecomendations_vecs_by_attendees\u001b[49m\u001b[38;5;241;43m.\u001b[39;49m\u001b[43mvalues\u001b[49m\u001b[43m(\u001b[49m\u001b[43m)\u001b[49m\u001b[43m,\u001b[49m\n\u001b[1;32m     46\u001b[0m \u001b[43m    \u001b[49m\u001b[43mevents_embeddings_by_id\u001b[49m\u001b[43m,\u001b[49m\n\u001b[1;32m     47\u001b[0m \u001b[43m\u001b[49m\u001b[43m)\u001b[49m\n",
      "File \u001b[0;32m~/FILES/study_itmo/diploma/code/recsys_vec_metrics/recsys_vec_metrics/metrics.py:31\u001b[0m, in \u001b[0;36mMetricsCalculator.get_all_metrics\u001b[0;34m(self, actual_interactions, recommendations_as_items_ids, recommendations_as_vecs, embeddings_by_item)\u001b[0m\n\u001b[1;32m     23\u001b[0m \u001b[38;5;28;01mdef\u001b[39;00m \u001b[38;5;21mget_all_metrics\u001b[39m(\n\u001b[1;32m     24\u001b[0m         \u001b[38;5;28mself\u001b[39m,\n\u001b[1;32m     25\u001b[0m         actual_interactions: typing\u001b[38;5;241m.\u001b[39mIterable[REC],\n\u001b[0;32m   (...)\u001b[0m\n\u001b[1;32m     28\u001b[0m         embeddings_by_item: typing\u001b[38;5;241m.\u001b[39mMapping[R_E, E],\n\u001b[1;32m     29\u001b[0m ) \u001b[38;5;241m-\u001b[39m\u001b[38;5;241m>\u001b[39m \u001b[38;5;28mdict\u001b[39m[\u001b[38;5;28mstr\u001b[39m, \u001b[38;5;28mfloat\u001b[39m]:\n\u001b[1;32m     30\u001b[0m     \u001b[38;5;28;01mreturn\u001b[39;00m {\n\u001b[0;32m---> 31\u001b[0m         \u001b[38;5;124m'\u001b[39m\u001b[38;5;124mPrecision@K\u001b[39m\u001b[38;5;124m'\u001b[39m: \u001b[43mcalc_precision_k\u001b[49m\u001b[43m(\u001b[49m\u001b[43mactual_interactions\u001b[49m\u001b[43m,\u001b[49m\u001b[43m \u001b[49m\u001b[43mrecommendations_as_items_ids\u001b[49m\u001b[43m)\u001b[49m,\n\u001b[1;32m     32\u001b[0m         \u001b[38;5;124m'\u001b[39m\u001b[38;5;124mRecall@K\u001b[39m\u001b[38;5;124m'\u001b[39m: calc_recall_k(actual_interactions, recommendations_as_items_ids),\n\u001b[1;32m     33\u001b[0m         \u001b[38;5;124m'\u001b[39m\u001b[38;5;124mF1@k\u001b[39m\u001b[38;5;124m'\u001b[39m: calc_f1score_k(actual_interactions, recommendations_as_items_ids),\n\u001b[1;32m     34\u001b[0m \n\u001b[1;32m     35\u001b[0m         \u001b[38;5;124m'\u001b[39m\u001b[38;5;124mCoverage\u001b[39m\u001b[38;5;124m'\u001b[39m: calc_coverage(recommendations_as_items_ids, \u001b[38;5;28mlen\u001b[39m(embeddings_by_item)),\n\u001b[1;32m     36\u001b[0m         \u001b[38;5;124m'\u001b[39m\u001b[38;5;124mDiversity\u001b[39m\u001b[38;5;124m'\u001b[39m: calc_diversity(recommendations_as_vecs, \u001b[38;5;28mself\u001b[39m\u001b[38;5;241m.\u001b[39msimilarity_func),\n\u001b[1;32m     37\u001b[0m         \u001b[38;5;124m'\u001b[39m\u001b[38;5;124mPersonalisation\u001b[39m\u001b[38;5;124m'\u001b[39m: calc_personalisation(recommendations_as_items_ids),\n\u001b[1;32m     38\u001b[0m         \u001b[38;5;124m'\u001b[39m\u001b[38;5;124mNovelty\u001b[39m\u001b[38;5;124m'\u001b[39m: calc_novelty(\n\u001b[1;32m     39\u001b[0m             actual_interactions,\n\u001b[1;32m     40\u001b[0m             recommendations_as_items_ids,\n\u001b[1;32m     41\u001b[0m             embeddings_by_item,\n\u001b[1;32m     42\u001b[0m             \u001b[38;5;28mself\u001b[39m\u001b[38;5;241m.\u001b[39msimilarity_func,\n\u001b[1;32m     43\u001b[0m         ),\n\u001b[1;32m     44\u001b[0m         \u001b[38;5;124m'\u001b[39m\u001b[38;5;124mSerendipity\u001b[39m\u001b[38;5;124m'\u001b[39m: calc_serendipity(\n\u001b[1;32m     45\u001b[0m             actual_interactions,\n\u001b[1;32m     46\u001b[0m             recommendations_as_items_ids,\n\u001b[1;32m     47\u001b[0m             embeddings_by_item,\n\u001b[1;32m     48\u001b[0m             \u001b[38;5;28mself\u001b[39m\u001b[38;5;241m.\u001b[39msimilarity_func,\n\u001b[1;32m     49\u001b[0m         ),\n\u001b[1;32m     50\u001b[0m     }\n",
      "File \u001b[0;32m~/FILES/study_itmo/diploma/code/recsys_vec_metrics/recsys_vec_metrics/metrics.py:62\u001b[0m, in \u001b[0;36mcalc_precision_k\u001b[0;34m(actual_interactions, recommendations)\u001b[0m\n\u001b[1;32m     59\u001b[0m total_recommended \u001b[38;5;241m=\u001b[39m \u001b[38;5;241m0\u001b[39m\n\u001b[1;32m     61\u001b[0m \u001b[38;5;28;01mfor\u001b[39;00m actual_events, recommended_events \u001b[38;5;129;01min\u001b[39;00m \u001b[38;5;28mzip\u001b[39m(actual_interactions, recommendations):\n\u001b[0;32m---> 62\u001b[0m     relevant_recommendations \u001b[38;5;241m=\u001b[39m \u001b[38;5;28mset\u001b[39m(actual_events) \u001b[38;5;241m&\u001b[39m \u001b[38;5;28;43mset\u001b[39;49m\u001b[43m(\u001b[49m\u001b[43mrecommended_events\u001b[49m\u001b[43m)\u001b[49m\n\u001b[1;32m     63\u001b[0m     total_recommended_relevant \u001b[38;5;241m+\u001b[39m\u001b[38;5;241m=\u001b[39m \u001b[38;5;28mlen\u001b[39m(relevant_recommendations)\n\u001b[1;32m     64\u001b[0m     total_recommended \u001b[38;5;241m+\u001b[39m\u001b[38;5;241m=\u001b[39m \u001b[38;5;28mlen\u001b[39m(recommended_events)\n",
      "\u001b[0;31mTypeError\u001b[0m: unhashable type: 'dict'"
     ]
    }
   ],
   "source": [
    "# Randomized DSSM for top 5 events\n",
    "dssm_randomized_recomendations_by_attendees_top_5 = get_top_k_randomized_dssm_recommendations(5)\n",
    "print('dssm_randomized_recomendations_by_attendees_top_5 len', len(dssm_randomized_recomendations_by_attendees_top_5))\n",
    "calculated_metrics_dssm_randomized_top_5 = calculate_metrics_for_qdrant_recommendations(dssm_randomized_recomendations_by_attendees_top_5)\n",
    "calculated_metrics_dssm_randomized_top_5"
   ]
  },
  {
   "cell_type": "code",
   "execution_count": 31,
   "id": "43412f9a-287e-4598-b243-7342959770c0",
   "metadata": {},
   "outputs": [
    {
     "name": "stdout",
     "output_type": "stream",
     "text": [
      "dssm_randomized_recomendations_by_attendees_top_5 len 17434\n",
      "recomendations_by_attendees len 17434\n"
     ]
    },
    {
     "data": {
      "text/plain": [
       "{'Precision@K': 0.0012274865205919468,\n",
       " 'Recall@K': 0.005073494547178758,\n",
       " 'F1@k': 0.001976722704600037,\n",
       " 'Coverage': 0.3377777777777778,\n",
       " 'Diversity': 5.990598878183575,\n",
       " 'Personalisation': 0.7836356257261659,\n",
       " 'Novelty': 0.5693685246951432,\n",
       " 'Serendipity': 0.00165705184619095}"
      ]
     },
     "execution_count": 31,
     "metadata": {},
     "output_type": "execute_result"
    }
   ],
   "source": [
    "# Randomized DSSM for top 5 events"
   ]
  },
  {
   "cell_type": "code",
   "execution_count": 32,
   "id": "033e3f54-dcac-4124-b489-2a1b314efa84",
   "metadata": {},
   "outputs": [
    {
     "name": "stdout",
     "output_type": "stream",
     "text": [
      "dssm_randomized_recomendations_by_attendees_top_10 len 17434\n",
      "recomendations_by_attendees len 17434\n"
     ]
    },
    {
     "data": {
      "text/plain": [
       "{'Precision@K': 0.0011529195824251462,\n",
       " 'Recall@K': 0.00953058321479374,\n",
       " 'F1@k': 0.0020570025072916133,\n",
       " 'Coverage': 0.44296296296296295,\n",
       " 'Diversity': 3.98625803322094,\n",
       " 'Personalisation': 0.7834117558017727,\n",
       " 'Novelty': 0.5455582511606488,\n",
       " 'Serendipity': 0.0038589934214119975}"
      ]
     },
     "execution_count": 32,
     "metadata": {},
     "output_type": "execute_result"
    }
   ],
   "source": [
    "# Randomized DSSM for top 10 events\n",
    "dssm_randomized_recomendations_by_attendees_top_10 = get_top_k_randomized_dssm_recommendations(10)\n",
    "print('dssm_randomized_recomendations_by_attendees_top_10 len', len(dssm_randomized_recomendations_by_attendees_top_10))\n",
    "calculated_metrics_dssm_randomized_top_10 = calculate_metrics_for_qdrant_recommendations(dssm_randomized_recomendations_by_attendees_top_10)\n",
    "calculated_metrics_dssm_randomized_top_10"
   ]
  },
  {
   "cell_type": "markdown",
   "id": "ea8fd102-22a4-4adc-97a3-4e143f3542aa",
   "metadata": {},
   "source": [
    "# Time parametrization for relevance()"
   ]
  },
  {
   "cell_type": "code",
   "execution_count": 14,
   "id": "c616e978-4b64-46ff-9a23-858fe7b56973",
   "metadata": {},
   "outputs": [],
   "source": [
    "from qdrant_client import models\n",
    "from datetime import datetime, timedelta\n",
    "\n",
    "import math\n",
    "import random\n",
    "\n",
    "\n",
    "def adjust_recommendation(recommendation: models.ScoredPoint, time_delta: int) -> models.ScoredPoint:\n",
    "    # time_delta = days(|event dt - current dt|)\n",
    "    DECAY = 0.002\n",
    "    \n",
    "    original_score = recommendation.score\n",
    "    adjusted_score = original_score * math.exp(-DECAY * time_delta)\n",
    "    recommendation.score = adjusted_score\n",
    "    \n",
    "    return recommendation\n",
    "\n",
    "\n",
    "def get_top_k_recommendations(req_attendee_emb, K: int, request_dt: datetime) -> list[models.ScoredPoint]:\n",
    "    RECOMMENDATION_PERIOD = timedelta(days=180)\n",
    "    \n",
    "    top_k_recommendations = qdrant_client.search(\n",
    "        'events',\n",
    "        req_attendee_emb,\n",
    "        limit=K,\n",
    "        with_vectors=True,\n",
    "        with_payload=True,\n",
    "        query_filter=models.Filter(\n",
    "            must=[\n",
    "                models.FieldCondition(\n",
    "                    key=\"event.event_start_ts\",\n",
    "                    range=models.Range(\n",
    "                        gte=request_dt.timestamp(),\n",
    "                        lte=(request_dt + RECOMMENDATION_PERIOD).timestamp(),\n",
    "                    ),\n",
    "                ),\n",
    "            ]\n",
    "        ),\n",
    "    )\n",
    "\n",
    "\n",
    "    for recommendation in top_k_recommendations:\n",
    "        event_dt = datetime.fromtimestamp(recommendation.payload['event']['event_start_ts'])\n",
    "        time_delta = abs((event_dt - request_dt).days)\n",
    "        adjust_recommendation(recommendation, time_delta)\n",
    "    top_k_recommendations = sorted(top_k_recommendations, key=lambda rec: rec.score, reverse=True)[:K]\n",
    "\n",
    "    return top_k_recommendations\n",
    "    \n",
    "\n",
    "def get_top_k_timedec_recommendations_by_attendees(K: int) -> dict:\n",
    "    recomendations_by_attendees_top_k = {}\n",
    "\n",
    "    c= 10\n",
    "    \n",
    "    \n",
    "    for attendee_id, events_ids in events_by_attendees.items():\n",
    "        req_attendee_emb = attendees_embeddings_by_id[attendee_id]\n",
    "        recomendations_by_attendees_top_k[attendee_id] = []\n",
    "        \n",
    "        for event_id in events_ids:\n",
    "            event = events_by_id[event_id]\n",
    "            request_dt = datetime.fromtimestamp(event['event']['event_start_ts']) - timedelta(days=random.randint(0, 7))\n",
    "\n",
    "            \n",
    "            top_k_recommendations = get_top_k_recommendations(req_attendee_emb, K, request_dt)\n",
    "            \n",
    "            recomendations_by_attendees_top_k[attendee_id].extend(top_k_recommendations)\n",
    "\n",
    "    return recomendations_by_attendees_top_k\n",
    "\n",
    "\n",
    "\n",
    "# Collaborative graph-based DSSM with time decay\n",
    "def get_top_k_timedec_collaborative_dssm_recommendations_by_attendees(K: int) -> dict:\n",
    "    recomendations_by_attendees_top_k = {}\n",
    "\n",
    "    c= 10\n",
    "    \n",
    "    \n",
    "    for attendee_id, events_ids in events_by_attendees.items():\n",
    "        recomendations_by_attendees_top_k[attendee_id] = []\n",
    "        collaborative_embedding_components = []\n",
    "        earliest_date = datetime.now()\n",
    "        \n",
    "        for event_id in events_ids:\n",
    "            event = events_by_id[event_id]\n",
    "            event_dt = datetime.fromtimestamp(event['event']['event_start_ts']) - timedelta(days=random.randint(0, 14))\n",
    "            if earliest_date > event_dt:\n",
    "                earliest_date = event_dt\n",
    "                \n",
    "            for other_attendee_id in event['attendees'].keys():\n",
    "                if other_attendee_id == attendee_id:\n",
    "                    continue\n",
    "                other_attendee_embedding = attendees_embeddings_by_id[other_attendee_id]\n",
    "                collaborative_embedding_components.append(other_attendee_embedding)\n",
    "            \n",
    "        if len(collaborative_embedding_components) == 0:\n",
    "            continue\n",
    "        \n",
    "        collaborative_embedding = sum(collaborative_embedding_components) / len(collaborative_embedding_components)\n",
    "        \n",
    "        top_k_recommendations = get_top_k_recommendations(collaborative_embedding, K, earliest_date)\n",
    "        recomendations_by_attendees_top_k[attendee_id] = top_k_recommendations\n",
    "\n",
    "    return recomendations_by_attendees_top_k"
   ]
  },
  {
   "cell_type": "code",
   "execution_count": 90,
   "id": "0906a3c1-c669-40ba-a4a9-31f32bf4684b",
   "metadata": {},
   "outputs": [],
   "source": [
    "# DSSM with time decay with K*2\n",
    "dssm_dt_decayed_recomendations_by_attendees_top_5 = get_top_k_timedec_recommendations_by_attendees(5)\n"
   ]
  },
  {
   "cell_type": "code",
   "execution_count": 91,
   "id": "8a70ac60-37c0-490c-ae78-3b9ab675bffb",
   "metadata": {},
   "outputs": [
    {
     "data": {
      "text/plain": [
       "5"
      ]
     },
     "execution_count": 91,
     "metadata": {},
     "output_type": "execute_result"
    }
   ],
   "source": [
    "len(dssm_dt_decayed_recomendations_by_attendees_top_5['374814414'])"
   ]
  },
  {
   "cell_type": "code",
   "execution_count": 92,
   "id": "a3a8c088-b2a5-4d24-b76d-be557dab0a0b",
   "metadata": {},
   "outputs": [
    {
     "name": "stdout",
     "output_type": "stream",
     "text": [
      "dssm_dt_decayed_recomendations_by_attendees_top_5 len 17434\n",
      "recomendations_by_attendees len 17434\n"
     ]
    },
    {
     "data": {
      "text/plain": [
       "{'Precision@K': 0.0015837039706398353,\n",
       " 'Recall@K': 0.007918444760550024,\n",
       " 'F1@k': 0.0026395024458862487,\n",
       " 'Coverage': 0.018271604938271607,\n",
       " 'Diversity': 3.0818931544883053,\n",
       " 'Personalisation': 0.4150524035692702,\n",
       " 'Novelty': 0.5650871938215764,\n",
       " 'Serendipity': 0.003673888816779593}"
      ]
     },
     "execution_count": 92,
     "metadata": {},
     "output_type": "execute_result"
    }
   ],
   "source": [
    "print('dssm_dt_decayed_recomendations_by_attendees_top_5 len', len(dssm_dt_decayed_recomendations_by_attendees_top_5))\n",
    "calculated_metrics_dssm_timedec_top_5 = calculate_metrics_for_qdrant_recommendations(dssm_dt_decayed_recomendations_by_attendees_top_5)\n",
    "calculated_metrics_dssm_timedec_top_5"
   ]
  },
  {
   "cell_type": "code",
   "execution_count": 94,
   "id": "16f72564-182c-4568-aa21-3bd64879c5d3",
   "metadata": {},
   "outputs": [
    {
     "name": "stdout",
     "output_type": "stream",
     "text": [
      "dssm_dt_decayed_recomendations_by_attendees_top_5_s len 17434\n",
      "recomendations_by_attendees len 17434\n"
     ]
    },
    {
     "data": {
      "text/plain": [
       "{'Precision@K': 0.002162244181856116,\n",
       " 'Recall@K': 0.010810810810810811,\n",
       " 'F1@k': 0.0036037175191249923,\n",
       " 'Coverage': 0.016296296296296295,\n",
       " 'Diversity': 3.2189160394820515,\n",
       " 'Personalisation': 0.3963807633720221,\n",
       " 'Novelty': 0.5586208181810789,\n",
       " 'Serendipity': 0.004995074342483842}"
      ]
     },
     "execution_count": 94,
     "metadata": {},
     "output_type": "execute_result"
    }
   ],
   "source": [
    "# DSSM with time decay withot double K\n",
    "dssm_dt_decayed_recomendations_by_attendees_top_5_s = get_top_k_timedec_recommendations_by_attendees(5)\n",
    "print('dssm_dt_decayed_recomendations_by_attendees_top_5_s len', len(dssm_dt_decayed_recomendations_by_attendees_top_5_s))\n",
    "calculated_metrics_dssm_timedec_top_5 = calculate_metrics_for_qdrant_recommendations(dssm_dt_decayed_recomendations_by_attendees_top_5_s)\n",
    "calculated_metrics_dssm_timedec_top_5"
   ]
  },
  {
   "cell_type": "code",
   "execution_count": null,
   "id": "210d9796-b617-4f47-b309-1d77c8b43793",
   "metadata": {},
   "outputs": [],
   "source": [
    "# DSSM with time decay K=10\n",
    "dssm_dt_decayed_recomendations_by_attendees_top_10_s = get_top_k_timedec_recommendations_by_attendees(10)\n",
    "print('dssm_dt_decayed_recomendations_by_attendees_top_10_s len', len(dssm_dt_decayed_recomendations_by_attendees_top_10_s))\n",
    "calculated_metrics_dssm_timedec_top_10 = calculate_metrics_for_qdrant_recommendations(dssm_dt_decayed_recomendations_by_attendees_top_10_s)\n",
    "calculated_metrics_dssm_timedec_top_10"
   ]
  },
  {
   "cell_type": "code",
   "execution_count": 110,
   "id": "e265258e-9207-4768-94b9-d5840e10deae",
   "metadata": {
    "scrolled": true
   },
   "outputs": [
    {
     "name": "stdout",
     "output_type": "stream",
     "text": [
      "collaborative_dssm_dt_decayed_recomendations_by_attendees_top_5_s len 17434\n",
      "recomendations_by_attendees len 17434\n"
     ]
    },
    {
     "ename": "ZeroDivisionError",
     "evalue": "division by zero",
     "output_type": "error",
     "traceback": [
      "\u001b[0;31m---------------------------------------------------------------------------\u001b[0m",
      "\u001b[0;31mZeroDivisionError\u001b[0m                         Traceback (most recent call last)",
      "Cell \u001b[0;32mIn[110], line 4\u001b[0m\n\u001b[1;32m      2\u001b[0m collaborative_dssm_dt_decayed_recomendations_by_attendees_top_5_s \u001b[38;5;241m=\u001b[39m get_top_k_timedec_collaborative_dssm_recommendations_by_attendees(\u001b[38;5;241m5\u001b[39m)\n\u001b[1;32m      3\u001b[0m \u001b[38;5;28mprint\u001b[39m(\u001b[38;5;124m'\u001b[39m\u001b[38;5;124mcollaborative_dssm_dt_decayed_recomendations_by_attendees_top_5_s len\u001b[39m\u001b[38;5;124m'\u001b[39m, \u001b[38;5;28mlen\u001b[39m(collaborative_dssm_dt_decayed_recomendations_by_attendees_top_5_s))\n\u001b[0;32m----> 4\u001b[0m collaborative_calculated_metrics_dssm_timedec_top_5 \u001b[38;5;241m=\u001b[39m \u001b[43mcalculate_metrics_for_qdrant_recommendations\u001b[49m\u001b[43m(\u001b[49m\u001b[43mcollaborative_dssm_dt_decayed_recomendations_by_attendees_top_5_s\u001b[49m\u001b[43m)\u001b[49m\n\u001b[1;32m      5\u001b[0m collaborative_calculated_metrics_dssm_timedec_top_5\n",
      "Cell \u001b[0;32mIn[54], line 20\u001b[0m, in \u001b[0;36mcalculate_metrics_for_qdrant_recommendations\u001b[0;34m(recomendations_by_attendees_top_k)\u001b[0m\n\u001b[1;32m     13\u001b[0m recomendations_vecs_by_attendees \u001b[38;5;241m=\u001b[39m {\n\u001b[1;32m     14\u001b[0m     attendee_id: [recomendation\u001b[38;5;241m.\u001b[39mvector \u001b[38;5;28;01mfor\u001b[39;00m recomendation \u001b[38;5;129;01min\u001b[39;00m recomendations]\n\u001b[1;32m     15\u001b[0m     \u001b[38;5;28;01mfor\u001b[39;00m attendee_id, recomendations\n\u001b[1;32m     16\u001b[0m     \u001b[38;5;129;01min\u001b[39;00m recomendations_by_attendees_top_k\u001b[38;5;241m.\u001b[39mitems()\n\u001b[1;32m     17\u001b[0m }\n\u001b[1;32m     19\u001b[0m metrics_calculator \u001b[38;5;241m=\u001b[39m recsys_vec_metrics\u001b[38;5;241m.\u001b[39mMetricsCalculator(similarity_func\u001b[38;5;241m=\u001b[39mdistance\u001b[38;5;241m.\u001b[39mcosine)\n\u001b[0;32m---> 20\u001b[0m \u001b[38;5;28;01mreturn\u001b[39;00m \u001b[43mmetrics_calculator\u001b[49m\u001b[38;5;241;43m.\u001b[39;49m\u001b[43mget_all_metrics\u001b[49m\u001b[43m(\u001b[49m\n\u001b[1;32m     21\u001b[0m \u001b[43m    \u001b[49m\u001b[43mevents_by_attendees\u001b[49m\u001b[38;5;241;43m.\u001b[39;49m\u001b[43mvalues\u001b[49m\u001b[43m(\u001b[49m\u001b[43m)\u001b[49m\u001b[43m,\u001b[49m\n\u001b[1;32m     22\u001b[0m \u001b[43m    \u001b[49m\u001b[43mrecomendations_items_by_attendees\u001b[49m\u001b[38;5;241;43m.\u001b[39;49m\u001b[43mvalues\u001b[49m\u001b[43m(\u001b[49m\u001b[43m)\u001b[49m\u001b[43m,\u001b[49m\n\u001b[1;32m     23\u001b[0m \u001b[43m    \u001b[49m\u001b[43mrecomendations_vecs_by_attendees\u001b[49m\u001b[38;5;241;43m.\u001b[39;49m\u001b[43mvalues\u001b[49m\u001b[43m(\u001b[49m\u001b[43m)\u001b[49m\u001b[43m,\u001b[49m\n\u001b[1;32m     24\u001b[0m \u001b[43m    \u001b[49m\u001b[43mevents_embeddings_by_id\u001b[49m\u001b[43m,\u001b[49m\n\u001b[1;32m     25\u001b[0m \u001b[43m\u001b[49m\u001b[43m)\u001b[49m\n",
      "File \u001b[0;32m~/FILES/study_itmo/diploma/code/recsys_vec_metrics/recsys_vec_metrics/metrics.py:36\u001b[0m, in \u001b[0;36mMetricsCalculator.get_all_metrics\u001b[0;34m(self, actual_interactions, recommendations_as_items_ids, recommendations_as_vecs, embeddings_by_item)\u001b[0m\n\u001b[1;32m     23\u001b[0m \u001b[38;5;28;01mdef\u001b[39;00m \u001b[38;5;21mget_all_metrics\u001b[39m(\n\u001b[1;32m     24\u001b[0m         \u001b[38;5;28mself\u001b[39m,\n\u001b[1;32m     25\u001b[0m         actual_interactions: typing\u001b[38;5;241m.\u001b[39mIterable[REC],\n\u001b[0;32m   (...)\u001b[0m\n\u001b[1;32m     28\u001b[0m         embeddings_by_item: typing\u001b[38;5;241m.\u001b[39mMapping[R_E, E],\n\u001b[1;32m     29\u001b[0m ) \u001b[38;5;241m-\u001b[39m\u001b[38;5;241m>\u001b[39m \u001b[38;5;28mdict\u001b[39m[\u001b[38;5;28mstr\u001b[39m, \u001b[38;5;28mfloat\u001b[39m]:\n\u001b[1;32m     30\u001b[0m     \u001b[38;5;28;01mreturn\u001b[39;00m {\n\u001b[1;32m     31\u001b[0m         \u001b[38;5;124m'\u001b[39m\u001b[38;5;124mPrecision@K\u001b[39m\u001b[38;5;124m'\u001b[39m: calc_precision_k(actual_interactions, recommendations_as_items_ids),\n\u001b[1;32m     32\u001b[0m         \u001b[38;5;124m'\u001b[39m\u001b[38;5;124mRecall@K\u001b[39m\u001b[38;5;124m'\u001b[39m: calc_recall_k(actual_interactions, recommendations_as_items_ids),\n\u001b[1;32m     33\u001b[0m         \u001b[38;5;124m'\u001b[39m\u001b[38;5;124mF1@k\u001b[39m\u001b[38;5;124m'\u001b[39m: calc_f1score_k(actual_interactions, recommendations_as_items_ids),\n\u001b[1;32m     34\u001b[0m \n\u001b[1;32m     35\u001b[0m         \u001b[38;5;124m'\u001b[39m\u001b[38;5;124mCoverage\u001b[39m\u001b[38;5;124m'\u001b[39m: calc_coverage(recommendations_as_items_ids, \u001b[38;5;28mlen\u001b[39m(embeddings_by_item)),\n\u001b[0;32m---> 36\u001b[0m         \u001b[38;5;124m'\u001b[39m\u001b[38;5;124mDiversity\u001b[39m\u001b[38;5;124m'\u001b[39m: \u001b[43mcalc_diversity\u001b[49m\u001b[43m(\u001b[49m\u001b[43mrecommendations_as_vecs\u001b[49m\u001b[43m,\u001b[49m\u001b[43m \u001b[49m\u001b[38;5;28;43mself\u001b[39;49m\u001b[38;5;241;43m.\u001b[39;49m\u001b[43msimilarity_func\u001b[49m\u001b[43m)\u001b[49m,\n\u001b[1;32m     37\u001b[0m         \u001b[38;5;124m'\u001b[39m\u001b[38;5;124mPersonalisation\u001b[39m\u001b[38;5;124m'\u001b[39m: calc_personalisation(recommendations_as_items_ids),\n\u001b[1;32m     38\u001b[0m         \u001b[38;5;124m'\u001b[39m\u001b[38;5;124mNovelty\u001b[39m\u001b[38;5;124m'\u001b[39m: calc_novelty(\n\u001b[1;32m     39\u001b[0m             actual_interactions,\n\u001b[1;32m     40\u001b[0m             recommendations_as_items_ids,\n\u001b[1;32m     41\u001b[0m             embeddings_by_item,\n\u001b[1;32m     42\u001b[0m             \u001b[38;5;28mself\u001b[39m\u001b[38;5;241m.\u001b[39msimilarity_func,\n\u001b[1;32m     43\u001b[0m         ),\n\u001b[1;32m     44\u001b[0m         \u001b[38;5;124m'\u001b[39m\u001b[38;5;124mSerendipity\u001b[39m\u001b[38;5;124m'\u001b[39m: calc_serendipity(\n\u001b[1;32m     45\u001b[0m             actual_interactions,\n\u001b[1;32m     46\u001b[0m             recommendations_as_items_ids,\n\u001b[1;32m     47\u001b[0m             embeddings_by_item,\n\u001b[1;32m     48\u001b[0m             \u001b[38;5;28mself\u001b[39m\u001b[38;5;241m.\u001b[39msimilarity_func,\n\u001b[1;32m     49\u001b[0m         ),\n\u001b[1;32m     50\u001b[0m     }\n",
      "File \u001b[0;32m~/FILES/study_itmo/diploma/code/recsys_vec_metrics/recsys_vec_metrics/metrics.py:132\u001b[0m, in \u001b[0;36mcalc_diversity\u001b[0;34m(recommendation_vectors, similarity_func)\u001b[0m\n\u001b[1;32m    128\u001b[0m total_amount \u001b[38;5;241m=\u001b[39m \u001b[38;5;241m0\u001b[39m\n\u001b[1;32m    130\u001b[0m \u001b[38;5;28;01mfor\u001b[39;00m rec_vec \u001b[38;5;129;01min\u001b[39;00m recommendation_vectors:\n\u001b[1;32m    131\u001b[0m     \u001b[38;5;66;03m# recommended_events_vectors = [rec.vector for rec in recommended_events]\u001b[39;00m\n\u001b[0;32m--> 132\u001b[0m     intra_list_sim \u001b[38;5;241m=\u001b[39m \u001b[43mcalc_intra_list_similarity\u001b[49m\u001b[43m(\u001b[49m\u001b[43mrec_vec\u001b[49m\u001b[43m,\u001b[49m\u001b[43m \u001b[49m\u001b[43msimilarity_func\u001b[49m\u001b[43m)\u001b[49m\n\u001b[1;32m    133\u001b[0m     total_acc \u001b[38;5;241m+\u001b[39m\u001b[38;5;241m=\u001b[39m intra_list_sim\n\u001b[1;32m    134\u001b[0m     total_amount \u001b[38;5;241m+\u001b[39m\u001b[38;5;241m=\u001b[39m \u001b[38;5;241m1\u001b[39m\n",
      "File \u001b[0;32m~/FILES/study_itmo/diploma/code/recsys_vec_metrics/recsys_vec_metrics/metrics.py:249\u001b[0m, in \u001b[0;36mcalc_intra_list_similarity\u001b[0;34m(vectors, similarity_func)\u001b[0m\n\u001b[1;32m    246\u001b[0m     acc \u001b[38;5;241m+\u001b[39m\u001b[38;5;241m=\u001b[39m similarity_func(cur_elem, vectors[i])\n\u001b[1;32m    247\u001b[0m     amount \u001b[38;5;241m+\u001b[39m\u001b[38;5;241m=\u001b[39m \u001b[38;5;241m1\u001b[39m\n\u001b[0;32m--> 249\u001b[0m \u001b[38;5;28;01mreturn\u001b[39;00m \u001b[43macc\u001b[49m\u001b[43m \u001b[49m\u001b[38;5;241;43m/\u001b[39;49m\u001b[43m \u001b[49m\u001b[43mamount\u001b[49m\n",
      "\u001b[0;31mZeroDivisionError\u001b[0m: division by zero"
     ]
    }
   ],
   "source": [
    "# Collaborative graph-based DSSM with events time decay K=5\n",
    "collaborative_dssm_dt_decayed_recomendations_by_attendees_top_5_s = get_top_k_timedec_collaborative_dssm_recommendations_by_attendees(5)\n",
    "print('collaborative_dssm_dt_decayed_recomendations_by_attendees_top_5_s len', len(collaborative_dssm_dt_decayed_recomendations_by_attendees_top_5_s))\n",
    "collaborative_calculated_metrics_dssm_timedec_top_5 = calculate_metrics_for_qdrant_recommendations(collaborative_dssm_dt_decayed_recomendations_by_attendees_top_5_s)\n",
    "collaborative_calculated_metrics_dssm_timedec_top_5"
   ]
  },
  {
   "cell_type": "code",
   "execution_count": 15,
   "id": "b444ec68-90e3-4d34-9c48-6eb0991749dd",
   "metadata": {},
   "outputs": [
    {
     "name": "stdout",
     "output_type": "stream",
     "text": [
      "collaborative_dssm_dt_decayed_recomendations_by_attendees_top_10_s len 17434\n",
      "recomendations_by_attendees len 17434\n"
     ]
    },
    {
     "data": {
      "text/plain": [
       "{'Precision@K': 0.0006459948320413437,\n",
       " 'Recall@K': 0.0026078710289236607,\n",
       " 'F1@k': 0.0010354890332297845,\n",
       " 'Coverage': 0.12,\n",
       " 'Diversity': 5.492886700286568,\n",
       " 'Personalisation': 0.5068265067821913,\n",
       " 'Novelty': 0.6200403730666585,\n",
       " 'Serendipity': 0.0008549917876937069}"
      ]
     },
     "execution_count": 15,
     "metadata": {},
     "output_type": "execute_result"
    }
   ],
   "source": [
    "# Collaborative graph-based DSSM with events time decay K=10\n",
    "collaborative_dssm_dt_decayed_recomendations_by_attendees_top_10_s = get_top_k_timedec_collaborative_dssm_recommendations_by_attendees(5)\n",
    "print('collaborative_dssm_dt_decayed_recomendations_by_attendees_top_10_s len', len(collaborative_dssm_dt_decayed_recomendations_by_attendees_top_10_s))\n",
    "collaborative_calculated_metrics_dssm_timedec_top_10 = calculate_metrics_for_qdrant_recommendations(collaborative_dssm_dt_decayed_recomendations_by_attendees_top_10_s)\n",
    "collaborative_calculated_metrics_dssm_timedec_top_10"
   ]
  }
 ],
 "metadata": {
  "kernelspec": {
   "display_name": "Python 3 (ipykernel)",
   "language": "python",
   "name": "python3"
  },
  "language_info": {
   "codemirror_mode": {
    "name": "ipython",
    "version": 3
   },
   "file_extension": ".py",
   "mimetype": "text/x-python",
   "name": "python",
   "nbconvert_exporter": "python",
   "pygments_lexer": "ipython3",
   "version": "3.12.3"
  }
 },
 "nbformat": 4,
 "nbformat_minor": 5
}
